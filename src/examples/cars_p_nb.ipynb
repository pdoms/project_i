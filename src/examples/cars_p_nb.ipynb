{
 "cells": [
  {
   "cell_type": "code",
   "execution_count": 1,
   "metadata": {},
   "outputs": [],
   "source": [
    "import sys\n",
    "sys.path.append(\"..\")\n",
    "from tools.linear_regression.linear_regression import get_column, LinReg, correlation, dot\n",
    "import pandas as pd\n",
    "import os\n",
    "import matplotlib.pyplot as plt\n",
    "import math\n"
   ]
  },
  {
   "cell_type": "markdown",
   "metadata": {},
   "source": [
    "## Load and Prepare Dataset\n",
    "source: https://www.kaggle.com/nehalbirla/vehicle-dataset-from-cardekho?select=Car+details+v3.csv"
   ]
  },
  {
   "cell_type": "code",
   "execution_count": 59,
   "metadata": {},
   "outputs": [],
   "source": [
    "dir_path = os.path.abspath('')\n",
    "source = os.path.join(dir_path, 'data', 'Cars', 'car_details.csv')\n",
    "df = pd.read_csv(source)\n"
   ]
  },
  {
   "cell_type": "markdown",
   "metadata": {},
   "source": [
    "#### Remve units and change 'fields' dtype to float"
   ]
  },
  {
   "cell_type": "code",
   "execution_count": 60,
   "metadata": {},
   "outputs": [],
   "source": [
    "def replace_convert(value, unit='', *args, **kwargs):\n",
    "    if type(value) == str:\n",
    "        if unit in value:\n",
    "            value = value.replace(unit, '').strip()\n",
    "            try:\n",
    "                return float(value)\n",
    "            except:\n",
    "                return 0.0\n",
    "        else:\n",
    "            return float(value)\n",
    "    else:\n",
    "        return value        \n",
    "\n",
    "def mileage(value):\n",
    "    # 1 liter mean(LPG, gas) = approx. 730gr - thus, e.g., 730gr * 1.37 = 1,000.1\n",
    "    if type(value) == str:\n",
    "        if 'kmpl' in value:\n",
    "            return float(value.replace('kmpl', '').strip())\n",
    "        elif 'km/kg' in value:\n",
    "            return float(value.replace('km/kg', '').strip()) * 1.37     \n",
    "    else:\n",
    "        return value\n",
    "\n"
   ]
  },
  {
   "cell_type": "code",
   "execution_count": 61,
   "metadata": {},
   "outputs": [],
   "source": [
    "df['engine'] = df['engine'].apply(replace_convert, unit='CC')\n",
    "df['max_power'] = df['max_power'].apply(replace_convert, unit='bhp')\n",
    "df['mileage'] = df['mileage'].apply(mileage)"
   ]
  },
  {
   "cell_type": "markdown",
   "metadata": {},
   "source": [
    "#### reduce magnitude of km_driven"
   ]
  },
  {
   "cell_type": "code",
   "execution_count": 62,
   "metadata": {},
   "outputs": [],
   "source": [
    "df['km_driven'] = df['km_driven'].apply(lambda x: x/1000)\n"
   ]
  },
  {
   "cell_type": "code",
   "execution_count": 63,
   "metadata": {},
   "outputs": [],
   "source": [
    "# util function that was run to determine levels of some variables\n",
    "counts = {}\n",
    "def count(value, counts):\n",
    "    if type(value) == str:\n",
    "        value = value.replace(' ', '_')\n",
    "    if value in counts.keys():\n",
    "        counts[value] += 1\n",
    "    else: \n",
    "        counts[value] = 1\n",
    "# results\n",
    "\n",
    "#fuel = {'Diesel': 4402, 'Petrol': 3631, 'LPG': 38, 'CNG': 57}\n",
    "#seller_type = {'Individual': 6766, 'Dealer': 1126, 'Trustmark_Dealer': 236}\n",
    "#transmission = {'Manual': 7078, 'Automatic': 1050}\n",
    "#owner = {'First_Owner': 5289, 'Second_Owner': 2105, 'Third_Owner': 555, 'Fourth_&_Above_Owner': 174, 'Test_Drive_Car': 5}"
   ]
  },
  {
   "cell_type": "code",
   "execution_count": 64,
   "metadata": {},
   "outputs": [],
   "source": [
    "# util function to sort datapoints\n",
    "def order(x,y, desc=False):\n",
    "    data = list(zip(x,y))\n",
    "    data.sort(key=lambda i:i[0],reverse=desc)\n",
    "    return [d[0] for d in data], [d[1] for d in data]"
   ]
  },
  {
   "cell_type": "markdown",
   "metadata": {},
   "source": [
    "#### Convert categoricals to numericals"
   ]
  },
  {
   "cell_type": "code",
   "execution_count": 65,
   "metadata": {},
   "outputs": [],
   "source": [
    "def numerical_fuel(value):\n",
    "    if value == 'Diesel':\n",
    "        return 0\n",
    "    elif value == 'Petrol':\n",
    "        return 1\n",
    "    elif value == 'LPG' or value == 'CNG': \n",
    "        return 2\n",
    "    else:\n",
    "        return 2\n",
    "\n",
    "def nummerical_seller(value):\n",
    "    if value == 'Dealer' or value == 'Trustmark Dealer':\n",
    "        return 1\n",
    "    elif value == 'Individual':\n",
    "        return 0\n",
    "    else: \n",
    "        return 1\n",
    "\n",
    "def numerical_trans(value):\n",
    "    if value == 'Manual':\n",
    "        return 0\n",
    "    elif value == 'Automatic':\n",
    "        return 1\n",
    "    else:\n",
    "        return 1\n",
    "        \n",
    "\n",
    "def numerical_owner(value):\n",
    "    if value == 'First Owner':\n",
    "        return 0\n",
    "    elif value == 'Second Owner':\n",
    "        return 1\n",
    "    elif value == 'Third Owner':\n",
    "        return 2\n",
    "    elif value == 'Fourth & Above Owner':\n",
    "        return 3\n",
    "    elif value == 'Test_Drive_Car':\n",
    "        return 4\n",
    "    else:\n",
    "        return 4\n",
    "\n"
   ]
  },
  {
   "cell_type": "code",
   "execution_count": 66,
   "metadata": {},
   "outputs": [],
   "source": [
    "categorical = [('fuel', numerical_fuel), ('seller_type', nummerical_seller), ('transmission', numerical_trans), ('owner', numerical_owner)]\n",
    "for col, func in categorical:\n",
    "    df[col] = df[col].apply(func)"
   ]
  },
  {
   "cell_type": "markdown",
   "metadata": {},
   "source": [
    "#### convert selling price\n",
    " no explanation in the dataset, but since the source is CarDheko, based in India and prices are indicated in LAKH, it is assumedthat the prices in the dataset are INR, because the mean is at 638000, which would equal 63,800,000,000 INR if converted from LAKH\n",
    " \n",
    "100,000 INR equals 1342.73 USD (mid-market exchange rate at 10:45 UTC, Nov 3, 2021) will result in using a conversion rate of 74.5 (INR to USD) example selling_price: 290000 INR;  3,892.62 USD"
   ]
  },
  {
   "cell_type": "code",
   "execution_count": 67,
   "metadata": {},
   "outputs": [],
   "source": [
    "def convert_to_USD(value):\n",
    "    return value/74.5\n"
   ]
  },
  {
   "cell_type": "code",
   "execution_count": 68,
   "metadata": {},
   "outputs": [],
   "source": [
    "df['selling_price'] = df['selling_price'].apply(convert_to_USD)"
   ]
  },
  {
   "cell_type": "markdown",
   "metadata": {},
   "source": [
    "Model_1 (see further below) had an unusual high coefficient for stick cars (as opposed to automatic transmission), skewed count as well as tremendous differences in mean manual_mean_price = 25111USD vs. automatic_mean_price = 6113USD\n",
    "\n",
    "Thus, it seems that this dataset suggests the notion that automatic cars are generally sold at a higher price."
   ]
  },
  {
   "cell_type": "code",
   "execution_count": 79,
   "metadata": {},
   "outputs": [
    {
     "name": "stdout",
     "output_type": "stream",
     "text": [
      "count      1050.000000\n",
      "mean      25111.779917\n",
      "std       22020.577786\n",
      "min        1006.711409\n",
      "25%        8657.718121\n",
      "50%       14765.100671\n",
      "75%       36389.261745\n",
      "max      134228.187919\n",
      "Name: selling_price, dtype: float64\n",
      "count     7078.000000\n",
      "mean      6113.098852\n",
      "std       3998.191060\n",
      "min        402.671141\n",
      "25%       3221.476510\n",
      "50%       5369.127517\n",
      "75%       8053.691275\n",
      "max      42953.020134\n",
      "Name: selling_price, dtype: float64\n"
     ]
    }
   ],
   "source": [
    "manuals = df[df['transmission'] == 1]\n",
    "print(manuals['selling_price'].describe())\n",
    "automatics = df[df['transmission'] == 0]\n",
    "print(automatics['selling_price'].describe())"
   ]
  },
  {
   "cell_type": "code",
   "execution_count": null,
   "metadata": {},
   "outputs": [],
   "source": []
  },
  {
   "cell_type": "code",
   "execution_count": null,
   "metadata": {},
   "outputs": [],
   "source": []
  },
  {
   "cell_type": "code",
   "execution_count": null,
   "metadata": {},
   "outputs": [],
   "source": []
  },
  {
   "cell_type": "code",
   "execution_count": null,
   "metadata": {},
   "outputs": [],
   "source": []
  },
  {
   "cell_type": "code",
   "execution_count": null,
   "metadata": {},
   "outputs": [],
   "source": []
  },
  {
   "cell_type": "markdown",
   "metadata": {},
   "source": [
    "#### selling_price to python list to use as target variable/y in custom code"
   ]
  },
  {
   "cell_type": "code",
   "execution_count": 13,
   "metadata": {},
   "outputs": [],
   "source": [
    "target = df['selling_price'].tolist()"
   ]
  },
  {
   "cell_type": "markdown",
   "metadata": {},
   "source": [
    "#### change year to age (2021 - year) --> last update of dataset was 2020 -> conversion in order to make interpretation a little easier (note: took 2021 to avoid zeroDivision or similar crooks)"
   ]
  },
  {
   "cell_type": "code",
   "execution_count": 14,
   "metadata": {},
   "outputs": [],
   "source": [
    "def year_to_age(value):\n",
    "        return 2021 - value\n",
    "    "
   ]
  },
  {
   "cell_type": "code",
   "execution_count": 15,
   "metadata": {},
   "outputs": [],
   "source": [
    "    df['age'] = df['year'].apply(year_to_age)"
   ]
  },
  {
   "cell_type": "markdown",
   "metadata": {},
   "source": [
    "#### drop unwanted columns \n",
    "name is irrelevant, torque seems irrelevant as max_power is there (at early state), selling_price is used as target, year got changed to age"
   ]
  },
  {
   "cell_type": "code",
   "execution_count": 16,
   "metadata": {},
   "outputs": [],
   "source": [
    "df.drop(labels=['selling_price', 'name', 'torque', 'year'], axis=1, inplace=True)"
   ]
  },
  {
   "cell_type": "markdown",
   "metadata": {},
   "source": [
    "#### replace nan with mean vals"
   ]
  },
  {
   "cell_type": "code",
   "execution_count": 17,
   "metadata": {},
   "outputs": [],
   "source": [
    "for col in df.columns:\n",
    "    df[col].fillna(value=df[col].mean(), inplace=True)"
   ]
  },
  {
   "cell_type": "markdown",
   "metadata": {},
   "source": [
    "#### create python list of x variables"
   ]
  },
  {
   "cell_type": "code",
   "execution_count": 18,
   "metadata": {},
   "outputs": [],
   "source": [
    "x_vars = df.values.tolist()"
   ]
  },
  {
   "cell_type": "markdown",
   "metadata": {},
   "source": [
    "#### prepare columns"
   ]
  },
  {
   "cell_type": "code",
   "execution_count": 19,
   "metadata": {},
   "outputs": [],
   "source": [
    "tar_label = ['selling_price']\n",
    "cols = [*tar_label, *df.columns]"
   ]
  },
  {
   "cell_type": "markdown",
   "metadata": {},
   "source": [
    "## Get Feel for Data"
   ]
  },
  {
   "cell_type": "markdown",
   "metadata": {},
   "source": [
    "##### visualize individual variables in relation to target"
   ]
  },
  {
   "cell_type": "code",
   "execution_count": 20,
   "metadata": {},
   "outputs": [
    {
     "data": {
      "text/html": [
       "<div>\n",
       "<style scoped>\n",
       "    .dataframe tbody tr th:only-of-type {\n",
       "        vertical-align: middle;\n",
       "    }\n",
       "\n",
       "    .dataframe tbody tr th {\n",
       "        vertical-align: top;\n",
       "    }\n",
       "\n",
       "    .dataframe thead th {\n",
       "        text-align: right;\n",
       "    }\n",
       "</style>\n",
       "<table border=\"1\" class=\"dataframe\">\n",
       "  <thead>\n",
       "    <tr style=\"text-align: right;\">\n",
       "      <th></th>\n",
       "      <th>km_driven</th>\n",
       "      <th>fuel</th>\n",
       "      <th>seller_type</th>\n",
       "      <th>transmission</th>\n",
       "      <th>owner</th>\n",
       "      <th>mileage</th>\n",
       "      <th>engine</th>\n",
       "      <th>max_power</th>\n",
       "      <th>seats</th>\n",
       "      <th>age</th>\n",
       "    </tr>\n",
       "  </thead>\n",
       "  <tbody>\n",
       "    <tr>\n",
       "      <th>0</th>\n",
       "      <td>145.5</td>\n",
       "      <td>0</td>\n",
       "      <td>0</td>\n",
       "      <td>0</td>\n",
       "      <td>0</td>\n",
       "      <td>23.40</td>\n",
       "      <td>1248.0</td>\n",
       "      <td>74.00</td>\n",
       "      <td>5.0</td>\n",
       "      <td>7</td>\n",
       "    </tr>\n",
       "    <tr>\n",
       "      <th>1</th>\n",
       "      <td>120.0</td>\n",
       "      <td>0</td>\n",
       "      <td>0</td>\n",
       "      <td>0</td>\n",
       "      <td>1</td>\n",
       "      <td>21.14</td>\n",
       "      <td>1498.0</td>\n",
       "      <td>103.52</td>\n",
       "      <td>5.0</td>\n",
       "      <td>7</td>\n",
       "    </tr>\n",
       "    <tr>\n",
       "      <th>2</th>\n",
       "      <td>140.0</td>\n",
       "      <td>1</td>\n",
       "      <td>0</td>\n",
       "      <td>0</td>\n",
       "      <td>2</td>\n",
       "      <td>17.70</td>\n",
       "      <td>1497.0</td>\n",
       "      <td>78.00</td>\n",
       "      <td>5.0</td>\n",
       "      <td>15</td>\n",
       "    </tr>\n",
       "    <tr>\n",
       "      <th>3</th>\n",
       "      <td>127.0</td>\n",
       "      <td>0</td>\n",
       "      <td>0</td>\n",
       "      <td>0</td>\n",
       "      <td>0</td>\n",
       "      <td>23.00</td>\n",
       "      <td>1396.0</td>\n",
       "      <td>90.00</td>\n",
       "      <td>5.0</td>\n",
       "      <td>11</td>\n",
       "    </tr>\n",
       "    <tr>\n",
       "      <th>4</th>\n",
       "      <td>120.0</td>\n",
       "      <td>1</td>\n",
       "      <td>0</td>\n",
       "      <td>0</td>\n",
       "      <td>0</td>\n",
       "      <td>16.10</td>\n",
       "      <td>1298.0</td>\n",
       "      <td>88.20</td>\n",
       "      <td>5.0</td>\n",
       "      <td>14</td>\n",
       "    </tr>\n",
       "  </tbody>\n",
       "</table>\n",
       "</div>"
      ],
      "text/plain": [
       "   km_driven  fuel  seller_type  transmission  owner  mileage  engine  \\\n",
       "0      145.5     0            0             0      0    23.40  1248.0   \n",
       "1      120.0     0            0             0      1    21.14  1498.0   \n",
       "2      140.0     1            0             0      2    17.70  1497.0   \n",
       "3      127.0     0            0             0      0    23.00  1396.0   \n",
       "4      120.0     1            0             0      0    16.10  1298.0   \n",
       "\n",
       "   max_power  seats  age  \n",
       "0      74.00    5.0    7  \n",
       "1     103.52    5.0    7  \n",
       "2      78.00    5.0   15  \n",
       "3      90.00    5.0   11  \n",
       "4      88.20    5.0   14  "
      ]
     },
     "execution_count": 20,
     "metadata": {},
     "output_type": "execute_result"
    }
   ],
   "source": [
    "df.head()"
   ]
  },
  {
   "cell_type": "code",
   "execution_count": 21,
   "metadata": {},
   "outputs": [
    {
     "name": "stdout",
     "output_type": "stream",
     "text": [
      "[6040.268456375839, 4966.442953020134, 2120.8053691275168, 3020.1342281879197, 1744.96644295302]\n"
     ]
    }
   ],
   "source": [
    "print(target[:5])"
   ]
  },
  {
   "cell_type": "code",
   "execution_count": null,
   "metadata": {},
   "outputs": [],
   "source": []
  },
  {
   "cell_type": "code",
   "execution_count": 22,
   "metadata": {},
   "outputs": [],
   "source": [
    "def plot_vars(x,y,labels=('', ''), save=False):\n",
    "    plt.scatter(x,y)\n",
    "    plt.xlabel(labels[1])\n",
    "    plt.ylabel(labels[0])\n",
    "    plt.title(labels[0] + ' vs ' + labels[1])\n",
    "    if save:\n",
    "        plt.savefig(f'results/Cars/{labels[0]}.png')\n",
    "    plt.show()\n",
    "\n",
    "def plot_with_line(x, y, regression, labels=('', ''), save=False):\n",
    "    plt.scatter(x, y)\n",
    "    plt.xlabel(labels[1])\n",
    "    plt.ylabel(labels[0])\n",
    "    plt.title(labels[0] + ' vs ' + labels[1])\n",
    "    y_hat = [dot(xi, regression.beta) for xi in regression.x]\n",
    "    x_sort, y_sort = order(x, y_hat)\n",
    "    plt.plot(x_sort, y_sort, color='red')\n",
    "    if save:\n",
    "        plt.savefig(f'results/Cars/{labels[0]}.png')\n",
    "    plt.show()\n"
   ]
  },
  {
   "cell_type": "markdown",
   "metadata": {},
   "source": [
    "### single variables variations"
   ]
  },
  {
   "cell_type": "markdown",
   "metadata": {},
   "source": [
    "##### price and year"
   ]
  },
  {
   "cell_type": "code",
   "execution_count": 23,
   "metadata": {},
   "outputs": [],
   "source": [
    "def fit_line_lin(xi, beta):\n",
    "    return beta[0] + beta[1]*xi"
   ]
  },
  {
   "cell_type": "code",
   "execution_count": 24,
   "metadata": {},
   "outputs": [],
   "source": [
    "idx = cols.index('age') -1\n",
    "age = get_column(x_vars, idx)\n",
    "age_2 = [i**2 for i in age]\n",
    "one_over_age = [1/i for i in age]\n",
    "age_ln = [math.log(i) for i in age]\n",
    "\n",
    "target_ln = [math.log(i) for i in target]"
   ]
  },
  {
   "cell_type": "markdown",
   "metadata": {},
   "source": [
    "a) age not tempered with"
   ]
  },
  {
   "cell_type": "code",
   "execution_count": 25,
   "metadata": {
    "scrolled": false
   },
   "outputs": [
    {
     "data": {
      "image/png": "[encoded data removed]",
      "text/plain": [
       "<Figure size 432x288 with 1 Axes>"
      ]
     },
     "metadata": {
      "needs_background": "light"
     },
     "output_type": "display_data"
    }
   ],
   "source": [
    "age_std = LinReg(age, target, columns=['price', 'age'])\n",
    "age_std.fit()\n",
    "plot_with_line(x=age, y=target, regression=age_std, labels=['price', 'age'])\n"
   ]
  },
  {
   "cell_type": "markdown",
   "metadata": {},
   "source": [
    "b) age_2"
   ]
  },
  {
   "cell_type": "code",
   "execution_count": 26,
   "metadata": {},
   "outputs": [
    {
     "data": {
      "image/png": "[encoded data removed]",
      "text/plain": [
       "<Figure size 432x288 with 1 Axes>"
      ]
     },
     "metadata": {
      "needs_background": "light"
     },
     "output_type": "display_data"
    }
   ],
   "source": [
    "#create new x_vars age and age_2\n",
    "age_super = [[i, j] for i,j in list(zip(age, age_2))]\n",
    "\n",
    "age_sqr = LinReg(age_super, target, columns=['price', 'age', 'age_2'])\n",
    "age_sqr.fit()\n",
    "plot_with_line(x=age, y=target, regression=age_sqr, labels=['price', 'age_2'])"
   ]
  },
  {
   "cell_type": "markdown",
   "metadata": {},
   "source": [
    "c) age_2 and ln_price"
   ]
  },
  {
   "cell_type": "code",
   "execution_count": 27,
   "metadata": {},
   "outputs": [
    {
     "data": {
      "image/png": "[encoded data removed]",
      "text/plain": [
       "<Figure size 432x288 with 1 Axes>"
      ]
     },
     "metadata": {
      "needs_background": "light"
     },
     "output_type": "display_data"
    }
   ],
   "source": [
    "age_sqr_price_ln = LinReg(age_super, target_ln, columns=['price', 'age', 'age_2'])\n",
    "age_sqr_price_ln.fit()\n",
    "plot_with_line(x=age, y=target_ln, regression=age_sqr_price_ln, labels=['price', 'age_2'])"
   ]
  },
  {
   "cell_type": "markdown",
   "metadata": {},
   "source": [
    "d) inverse of age"
   ]
  },
  {
   "cell_type": "code",
   "execution_count": 28,
   "metadata": {},
   "outputs": [
    {
     "data": {
      "image/png": "[encoded data removed]",
      "text/plain": [
       "<Figure size 432x288 with 1 Axes>"
      ]
     },
     "metadata": {
      "needs_background": "light"
     },
     "output_type": "display_data"
    }
   ],
   "source": [
    "over_age = LinReg(one_over_age, target, columns=['price', '1/age'])\n",
    "over_age.fit()\n",
    "plot_with_line(x=age, y=target, regression=over_age, labels=['price', '1/age'])"
   ]
  },
  {
   "cell_type": "markdown",
   "metadata": {},
   "source": [
    "e) ln of age"
   ]
  },
  {
   "cell_type": "code",
   "execution_count": 29,
   "metadata": {},
   "outputs": [
    {
     "data": {
      "image/png": "[encoded data removed]",
      "text/plain": [
       "<Figure size 432x288 with 1 Axes>"
      ]
     },
     "metadata": {
      "needs_background": "light"
     },
     "output_type": "display_data"
    }
   ],
   "source": [
    "ln_of_age = LinReg(age_ln, target, columns=['price', 'age_ln'])\n",
    "ln_of_age.fit()\n",
    "plot_with_line(x=age, y=target, regression=ln_of_age, labels=['price', 'age_ln'])"
   ]
  },
  {
   "cell_type": "markdown",
   "metadata": {},
   "source": [
    "##### check frequency distribution of price and age"
   ]
  },
  {
   "cell_type": "code",
   "execution_count": 30,
   "metadata": {},
   "outputs": [
    {
     "data": {
      "image/png": "[encoded data removed]",
      "text/plain": [
       "<Figure size 432x288 with 2 Axes>"
      ]
     },
     "metadata": {
      "needs_background": "light"
     },
     "output_type": "display_data"
    }
   ],
   "source": [
    "df1 = pd.DataFrame({'age': age})\n",
    "df2 = pd.DataFrame({'age_ln': age_ln})\n",
    "fig, ax = plt.subplots(1, 2)\n",
    "df1.hist('age', ax=ax[0])\n",
    "df2.hist('age_ln', ax=ax[1])\n",
    "plt.show()\n"
   ]
  },
  {
   "cell_type": "code",
   "execution_count": 31,
   "metadata": {},
   "outputs": [
    {
     "data": {
      "image/png": "[encoded data removed]",
      "text/plain": [
       "<Figure size 432x288 with 2 Axes>"
      ]
     },
     "metadata": {
      "needs_background": "light"
     },
     "output_type": "display_data"
    }
   ],
   "source": [
    "df1 = pd.DataFrame({'price': target})\n",
    "df2 = pd.DataFrame({'price_ln': target_ln})\n",
    "fig, ax = plt.subplots(1, 2)\n",
    "df1.hist('price', ax=ax[0])\n",
    "df2.hist('price_ln', ax=ax[1])\n",
    "plt.show()"
   ]
  },
  {
   "cell_type": "markdown",
   "metadata": {},
   "source": [
    "f) target and age as ln "
   ]
  },
  {
   "cell_type": "code",
   "execution_count": 32,
   "metadata": {},
   "outputs": [
    {
     "data": {
      "image/png": "[encoded data removed]",
      "text/plain": [
       "<Figure size 432x288 with 1 Axes>"
      ]
     },
     "metadata": {
      "needs_background": "light"
     },
     "output_type": "display_data"
    }
   ],
   "source": [
    "ln_price_age = LinReg(age_ln, target_ln, columns=['price_ln', 'age_ln'])\n",
    "ln_price_age.fit()\n",
    "plot_with_line(x=age, y=target_ln, regression=ln_price_age, labels=['price', 'age_ln'])"
   ]
  },
  {
   "cell_type": "markdown",
   "metadata": {},
   "source": [
    "Attemp at interpretations: a 1% increase in age, decreases the price by 0.95%, all else equal \n",
    "            Q: what is a 1% increase?\n",
    "            A: age of car = 1, 1% increase = 1*1.1 = 1.1 yrs of age\n",
    "                --> if price of car A, age 1yr = 200$, then price of car B, age 1.1yr =                         198.1 --> seems reasonable\n",
    "                --> car_1: price = 6040USD, age = 6 years, car_2: price = ?, age = 8 year;\n",
    "                "
   ]
  },
  {
   "cell_type": "code",
   "execution_count": 33,
   "metadata": {},
   "outputs": [
    {
     "data": {
      "text/plain": [
       "4464.778145545667"
      ]
     },
     "execution_count": 33,
     "metadata": {},
     "output_type": "execute_result"
    }
   ],
   "source": [
    "math.exp(ln_price_age.predict([1, math.log(8)]))"
   ]
  },
  {
   "cell_type": "markdown",
   "metadata": {},
   "source": [
    "##### price vs km_driven"
   ]
  },
  {
   "cell_type": "code",
   "execution_count": 34,
   "metadata": {},
   "outputs": [],
   "source": [
    "km = [i[0] for i in x_vars]\n",
    "one_over_km = [1/i for i in km]\n",
    "km_ln = [math.log(i) for i in km]"
   ]
  },
  {
   "cell_type": "code",
   "execution_count": 35,
   "metadata": {},
   "outputs": [
    {
     "data": {
      "image/png": "[encoded data removed]",
      "text/plain": [
       "<Figure size 432x288 with 2 Axes>"
      ]
     },
     "metadata": {
      "needs_background": "light"
     },
     "output_type": "display_data"
    }
   ],
   "source": [
    "df1 = pd.DataFrame({'km_driven': km})\n",
    "df2 = pd.DataFrame({'km_ln': km_ln})\n",
    "fig, ax = plt.subplots(1, 2)\n",
    "df1.hist('km_driven', ax=ax[0])\n",
    "df2.hist('km_ln', ax=ax[1])\n",
    "plt.show()"
   ]
  },
  {
   "cell_type": "markdown",
   "metadata": {},
   "source": [
    "a) km vs price"
   ]
  },
  {
   "cell_type": "code",
   "execution_count": 36,
   "metadata": {},
   "outputs": [],
   "source": [
    "l = ['price', 'km']\n",
    "lo = ['price', 'one_over_km']\n",
    "lln = ['price', 'km_ln']\n",
    "llnpln = ['price_ln', 'km_1']"
   ]
  },
  {
   "cell_type": "code",
   "execution_count": 37,
   "metadata": {},
   "outputs": [
    {
     "data": {
      "image/png": "[encoded data removed]",
      "text/plain": [
       "<Figure size 432x288 with 1 Axes>"
      ]
     },
     "metadata": {
      "needs_background": "light"
     },
     "output_type": "display_data"
    }
   ],
   "source": [
    "km_price = LinReg(km, target, columns=l)\n",
    "km_price.fit()\n",
    "plot_with_line(x=km, y=target, regression=km_price, labels=l)"
   ]
  },
  {
   "cell_type": "code",
   "execution_count": 38,
   "metadata": {},
   "outputs": [
    {
     "data": {
      "image/png": "[encoded data removed]",
      "text/plain": [
       "<Figure size 432x288 with 1 Axes>"
      ]
     },
     "metadata": {
      "needs_background": "light"
     },
     "output_type": "display_data"
    }
   ],
   "source": [
    "one_over = LinReg(one_over_km, target, columns=lo)\n",
    "one_over.fit()\n",
    "plot_with_line(x=km, y=target, regression=one_over, labels=lo)"
   ]
  },
  {
   "cell_type": "code",
   "execution_count": 39,
   "metadata": {},
   "outputs": [
    {
     "data": {
      "image/png": "[encoded data removed]",
      "text/plain": [
       "<Figure size 432x288 with 1 Axes>"
      ]
     },
     "metadata": {
      "needs_background": "light"
     },
     "output_type": "display_data"
    }
   ],
   "source": [
    "km_ln_reg = LinReg(km_ln, target, columns=lln)\n",
    "km_ln_reg.fit()\n",
    "plot_with_line(x=km, y=target, regression=km_ln_reg, labels=lln)\n"
   ]
  },
  {
   "cell_type": "code",
   "execution_count": 40,
   "metadata": {
    "scrolled": true
   },
   "outputs": [
    {
     "data": {
      "image/png": "[encoded data removed]",
      "text/plain": [
       "<Figure size 432x288 with 1 Axes>"
      ]
     },
     "metadata": {
      "needs_background": "light"
     },
     "output_type": "display_data"
    }
   ],
   "source": [
    "km_ln_pln = LinReg(km_ln, target_ln, columns=lln)\n",
    "km_ln_pln.fit()\n",
    "plot_with_line(x=km, y=target_ln, regression=km_ln_pln, labels=llnpln)"
   ]
  },
  {
   "cell_type": "markdown",
   "metadata": {},
   "source": [
    "#### remove km_driven outlier"
   ]
  },
  {
   "cell_type": "code",
   "execution_count": 41,
   "metadata": {},
   "outputs": [],
   "source": [
    "km_idx = cols.index('km_driven') -1\n",
    "km_col = get_column(x_vars, km_idx)\n",
    "km_col_copy = km_col.copy()\n",
    "km_col_copy.sort(reverse=True)\n",
    "max_vals = km_col_copy[:2]\n",
    "for i in max_vals:\n",
    "    pass\n",
    "\n",
    "\n",
    "    \n",
    "\n"
   ]
  },
  {
   "cell_type": "code",
   "execution_count": null,
   "metadata": {},
   "outputs": [],
   "source": []
  },
  {
   "cell_type": "code",
   "execution_count": null,
   "metadata": {},
   "outputs": [],
   "source": []
  },
  {
   "cell_type": "markdown",
   "metadata": {},
   "source": [
    "#### MODEL_1: target: price; vars: age, km_driven, transmission (bin), fuel (3 cats)"
   ]
  },
  {
   "cell_type": "code",
   "execution_count": 42,
   "metadata": {},
   "outputs": [
    {
     "data": {
      "text/html": [
       "<div>\n",
       "<style scoped>\n",
       "    .dataframe tbody tr th:only-of-type {\n",
       "        vertical-align: middle;\n",
       "    }\n",
       "\n",
       "    .dataframe tbody tr th {\n",
       "        vertical-align: top;\n",
       "    }\n",
       "\n",
       "    .dataframe thead th {\n",
       "        text-align: right;\n",
       "    }\n",
       "</style>\n",
       "<table border=\"1\" class=\"dataframe\">\n",
       "  <thead>\n",
       "    <tr style=\"text-align: right;\">\n",
       "      <th></th>\n",
       "      <th>km_driven</th>\n",
       "      <th>fuel</th>\n",
       "      <th>seller_type</th>\n",
       "      <th>transmission</th>\n",
       "      <th>owner</th>\n",
       "      <th>mileage</th>\n",
       "      <th>engine</th>\n",
       "      <th>max_power</th>\n",
       "      <th>seats</th>\n",
       "      <th>age</th>\n",
       "    </tr>\n",
       "  </thead>\n",
       "  <tbody>\n",
       "    <tr>\n",
       "      <th>0</th>\n",
       "      <td>145.5</td>\n",
       "      <td>0</td>\n",
       "      <td>0</td>\n",
       "      <td>0</td>\n",
       "      <td>0</td>\n",
       "      <td>23.40</td>\n",
       "      <td>1248.0</td>\n",
       "      <td>74.00</td>\n",
       "      <td>5.0</td>\n",
       "      <td>7</td>\n",
       "    </tr>\n",
       "    <tr>\n",
       "      <th>1</th>\n",
       "      <td>120.0</td>\n",
       "      <td>0</td>\n",
       "      <td>0</td>\n",
       "      <td>0</td>\n",
       "      <td>1</td>\n",
       "      <td>21.14</td>\n",
       "      <td>1498.0</td>\n",
       "      <td>103.52</td>\n",
       "      <td>5.0</td>\n",
       "      <td>7</td>\n",
       "    </tr>\n",
       "    <tr>\n",
       "      <th>2</th>\n",
       "      <td>140.0</td>\n",
       "      <td>1</td>\n",
       "      <td>0</td>\n",
       "      <td>0</td>\n",
       "      <td>2</td>\n",
       "      <td>17.70</td>\n",
       "      <td>1497.0</td>\n",
       "      <td>78.00</td>\n",
       "      <td>5.0</td>\n",
       "      <td>15</td>\n",
       "    </tr>\n",
       "    <tr>\n",
       "      <th>3</th>\n",
       "      <td>127.0</td>\n",
       "      <td>0</td>\n",
       "      <td>0</td>\n",
       "      <td>0</td>\n",
       "      <td>0</td>\n",
       "      <td>23.00</td>\n",
       "      <td>1396.0</td>\n",
       "      <td>90.00</td>\n",
       "      <td>5.0</td>\n",
       "      <td>11</td>\n",
       "    </tr>\n",
       "    <tr>\n",
       "      <th>4</th>\n",
       "      <td>120.0</td>\n",
       "      <td>1</td>\n",
       "      <td>0</td>\n",
       "      <td>0</td>\n",
       "      <td>0</td>\n",
       "      <td>16.10</td>\n",
       "      <td>1298.0</td>\n",
       "      <td>88.20</td>\n",
       "      <td>5.0</td>\n",
       "      <td>14</td>\n",
       "    </tr>\n",
       "  </tbody>\n",
       "</table>\n",
       "</div>"
      ],
      "text/plain": [
       "   km_driven  fuel  seller_type  transmission  owner  mileage  engine  \\\n",
       "0      145.5     0            0             0      0    23.40  1248.0   \n",
       "1      120.0     0            0             0      1    21.14  1498.0   \n",
       "2      140.0     1            0             0      2    17.70  1497.0   \n",
       "3      127.0     0            0             0      0    23.00  1396.0   \n",
       "4      120.0     1            0             0      0    16.10  1298.0   \n",
       "\n",
       "   max_power  seats  age  \n",
       "0      74.00    5.0    7  \n",
       "1     103.52    5.0    7  \n",
       "2      78.00    5.0   15  \n",
       "3      90.00    5.0   11  \n",
       "4      88.20    5.0   14  "
      ]
     },
     "execution_count": 42,
     "metadata": {},
     "output_type": "execute_result"
    }
   ],
   "source": [
    "df.head()"
   ]
  },
  {
   "cell_type": "code",
   "execution_count": 43,
   "metadata": {},
   "outputs": [],
   "source": [
    "idx_age = cols.index('age') -1\n",
    "idx_km_driven = cols.index('km_driven') -1\n",
    "idx_trans = cols.index('transmission') -1\n",
    "idx_fuel = cols.index('fuel')-1\n",
    "\n",
    "explanatory_m1 = [[i[idx_age], i[idx_km_driven], i[idx_trans], i[idx_fuel]] for i in x_vars]\n",
    "col_labels = ['selling_price', 'age', 'km_driven', 'transmission', 'fuel']\n"
   ]
  },
  {
   "cell_type": "code",
   "execution_count": 44,
   "metadata": {},
   "outputs": [],
   "source": [
    "#create model \n",
    "model_1 = LinReg(explanatory_m1, target, columns=col_labels)"
   ]
  },
  {
   "cell_type": "code",
   "execution_count": 45,
   "metadata": {},
   "outputs": [
    {
     "data": {
      "text/plain": [
       "[[1.0, 7.0, 145.5, 0.0, 0, 0],\n",
       " [1.0, 7.0, 120.0, 0.0, 0, 0],\n",
       " [1.0, 15.0, 140.0, 0.0, 1, 0],\n",
       " [1.0, 11.0, 127.0, 0.0, 0, 0],\n",
       " [1.0, 14.0, 120.0, 0.0, 1, 0],\n",
       " [1.0, 4.0, 45.0, 0.0, 1, 0],\n",
       " [1.0, 14.0, 175.0, 0.0, 0, 1],\n",
       " [1.0, 20.0, 5.0, 0.0, 1, 0],\n",
       " [1.0, 10.0, 90.0, 0.0, 0, 0],\n",
       " [1.0, 8.0, 169.0, 0.0, 0, 0],\n",
       " [1.0, 7.0, 68.0, 0.0, 0, 0],\n",
       " [1.0, 16.0, 100.0, 0.0, 1, 0],\n",
       " [1.0, 12.0, 140.0, 0.0, 0, 0],\n",
       " [1.0, 14.0, 80.0, 0.0, 1, 0],\n",
       " [1.0, 12.0, 90.0, 0.0, 1, 0],\n",
       " [1.0, 5.0, 40.0, 0.0, 1, 0],\n",
       " [1.0, 5.0, 70.0, 0.0, 0, 0],\n",
       " [1.0, 9.0, 53.0, 0.0, 0, 0],\n",
       " [1.0, 19.0, 80.0, 0.0, 1, 0],\n",
       " [1.0, 5.0, 100.0, 0.0, 0, 0],\n",
       " [1.0, 10.0, 100.0, 0.0, 0, 0],\n",
       " [1.0, 4.0, 50.0, 0.0, 0, 0],\n",
       " [1.0, 6.0, 40.0, 0.0, 0, 0],\n",
       " [1.0, 9.0, 72.0, 0.0, 0, 0],\n",
       " [1.0, 3.0, 35.0, 0.0, 1, 0],\n",
       " [1.0, 5.0, 45.0, 0.0, 1, 0],\n",
       " [1.0, 4.0, 28.0, 0.0, 1, 0],\n",
       " [1.0, 8.0, 70.0, 0.0, 0, 0],\n",
       " [1.0, 12.0, 120.0, 0.0, 1, 0],\n",
       " [1.0, 3.0, 25.0, 0.0, 1, 0],\n",
       " [1.0, 4.0, 70.0, 0.0, 0, 0],\n",
       " [1.0, 18.0, 50.0, 0.0, 1, 0],\n",
       " [1.0, 9.0, 35.0, 0.0, 1, 0],\n",
       " [1.0, 3.0, 2.388, 0.0, 1, 0],\n",
       " [1.0, 4.0, 16.2, 0.0, 0, 0],\n",
       " [1.0, 2.0, 10.0, 0.0, 0, 1],\n",
       " [1.0, 2.0, 15.0, 0.0, 1, 0],\n",
       " [1.0, 2.0, 5.0, 0.0, 1, 0],\n",
       " [1.0, 5.0, 42.0, 0.0, 1, 0],\n",
       " [1.0, 10.0, 60.0, 0.0, 0, 0],\n",
       " [1.0, 9.0, 76.0, 0.0, 1, 0],\n",
       " [1.0, 2.0, 5.0, 1.0, 1, 0],\n",
       " [1.0, 3.0, 28.9, 0.0, 1, 0],\n",
       " [1.0, 8.0, 86.3, 0.0, 1, 0],\n",
       " [1.0, 3.0, 23.3, 1.0, 1, 0],\n",
       " [1.0, 3.0, 32.6, 0.0, 0, 0],\n",
       " [1.0, 3.0, 10.3, 0.0, 1, 0],\n",
       " [1.0, 7.0, 77.0, 0.0, 0, 0],\n",
       " [1.0, 8.0, 99.0, 0.0, 0, 0],\n",
       " [1.0, 7.0, 27.8, 1.0, 0, 0],\n",
       " [1.0, 6.0, 49.8, 0.0, 0, 0],\n",
       " [1.0, 8.0, 151.0, 0.0, 0, 0],\n",
       " [1.0, 6.0, 54.7, 0.0, 0, 0],\n",
       " [1.0, 3.0, 64.0, 0.0, 1, 0],\n",
       " [1.0, 6.0, 63.0, 0.0, 0, 0],\n",
       " [1.0, 5.0, 127.7, 1.0, 0, 0],\n",
       " [1.0, 5.0, 99.0, 0.0, 0, 0],\n",
       " [1.0, 8.0, 33.9, 1.0, 0, 0],\n",
       " [1.0, 3.0, 25.0, 1.0, 1, 0],\n",
       " [1.0, 8.0, 50.0, 1.0, 0, 0],\n",
       " [1.0, 8.0, 59.0, 1.0, 0, 0],\n",
       " [1.0, 10.0, 120.0, 0.0, 0, 0],\n",
       " [1.0, 10.0, 110.0, 0.0, 1, 0],\n",
       " [1.0, 8.0, 60.0, 0.0, 0, 0],\n",
       " [1.0, 6.0, 147.0, 0.0, 0, 0],\n",
       " [1.0, 4.0, 25.0, 0.0, 1, 0],\n",
       " [1.0, 2.0, 30.0, 0.0, 1, 0],\n",
       " [1.0, 5.0, 40.0, 0.0, 0, 0],\n",
       " [1.0, 6.0, 135.0, 0.0, 0, 0],\n",
       " [1.0, 3.0, 30.0, 1.0, 1, 0],\n",
       " [1.0, 4.0, 80.0, 0.0, 0, 0],\n",
       " [1.0, 5.0, 70.0, 0.0, 0, 0],\n",
       " [1.0, 2.0, 9.85, 1.0, 0, 0],\n",
       " [1.0, 10.0, 60.0, 0.0, 1, 0],\n",
       " [1.0, 5.0, 70.0, 0.0, 0, 0],\n",
       " [1.0, 6.0, 78.0, 0.0, 0, 0],\n",
       " [1.0, 8.0, 120.0, 0.0, 0, 0],\n",
       " [1.0, 9.0, 120.0, 0.0, 1, 0],\n",
       " [1.0, 18.0, 70.0, 0.0, 0, 0],\n",
       " [1.0, 8.0, 170.0, 0.0, 0, 0],\n",
       " [1.0, 5.0, 140.0, 0.0, 0, 0],\n",
       " [1.0, 6.0, 90.0, 0.0, 0, 0],\n",
       " [1.0, 5.0, 30.0, 1.0, 1, 0],\n",
       " [1.0, 4.0, 10.0, 0.0, 1, 0],\n",
       " [1.0, 5.0, 49.0, 0.0, 1, 0],\n",
       " [1.0, 5.0, 32.0, 0.0, 1, 0],\n",
       " [1.0, 5.0, 38.0, 0.0, 1, 0],\n",
       " [1.0, 6.0, 78.0, 0.0, 0, 0],\n",
       " [1.0, 9.0, 28.0, 0.0, 1, 0],\n",
       " [1.0, 4.0, 32.0, 0.0, 1, 0],\n",
       " [1.0, 11.0, 44.0, 0.0, 0, 1],\n",
       " [1.0, 6.0, 42.0, 0.0, 1, 0],\n",
       " [1.0, 6.0, 45.0, 0.0, 1, 0],\n",
       " [1.0, 9.0, 12.0, 0.0, 1, 0],\n",
       " [1.0, 12.0, 55.5, 0.0, 1, 0],\n",
       " [1.0, 8.0, 61.5, 0.0, 1, 0],\n",
       " [1.0, 5.0, 150.0, 0.0, 0, 0],\n",
       " [1.0, 5.0, 72.0, 1.0, 1, 0],\n",
       " [1.0, 13.0, 68.0, 0.0, 1, 0],\n",
       " [1.0, 4.0, 110.0, 0.0, 0, 0],\n",
       " [1.0, 12.0, 77.0, 0.0, 1, 0],\n",
       " [1.0, 11.0, 100.0, 0.0, 0, 0],\n",
       " [1.0, 2.0, 10.0, 0.0, 1, 0],\n",
       " [1.0, 5.0, 100.0, 0.0, 1, 0],\n",
       " [1.0, 3.0, 35.0, 0.0, 1, 0],\n",
       " [1.0, 7.0, 70.0, 1.0, 0, 0],\n",
       " [1.0, 1.0, 5.0, 0.0, 1, 0],\n",
       " [1.0, 4.0, 37.8, 0.0, 1, 0],\n",
       " [1.0, 11.0, 114.0, 0.0, 1, 0],\n",
       " [1.0, 11.0, 48.0, 0.0, 1, 0],\n",
       " [1.0, 2.0, 32.0, 0.0, 0, 0],\n",
       " [1.0, 5.0, 100.0, 0.0, 0, 0],\n",
       " [1.0, 8.0, 150.0, 0.0, 0, 0],\n",
       " [1.0, 8.0, 69.0, 0.0, 0, 0],\n",
       " [1.0, 12.0, 100.0, 0.0, 1, 0],\n",
       " [1.0, 1.0, 13.0, 0.0, 1, 0],\n",
       " [1.0, 5.0, 60.0, 0.0, 0, 0],\n",
       " [1.0, 4.0, 40.0, 0.0, 1, 0],\n",
       " [1.0, 4.0, 35.0, 0.0, 1, 0],\n",
       " [1.0, 11.0, 120.0, 0.0, 0, 0],\n",
       " [1.0, 7.0, 70.0, 0.0, 0, 0],\n",
       " [1.0, 5.0, 50.0, 0.0, 0, 0],\n",
       " [1.0, 4.0, 76.139, 0.0, 0, 0],\n",
       " [1.0, 9.0, 175.0, 0.0, 0, 0],\n",
       " [1.0, 3.0, 25.0, 0.0, 1, 0],\n",
       " [1.0, 6.0, 40.0, 0.0, 1, 0],\n",
       " [1.0, 13.0, 65.0, 0.0, 1, 0],\n",
       " [1.0, 8.0, 90.0, 0.0, 0, 0],\n",
       " [1.0, 12.0, 80.0, 0.0, 1, 0],\n",
       " [1.0, 6.0, 110.0, 0.0, 0, 0],\n",
       " [1.0, 2.0, 1.303, 0.0, 1, 0],\n",
       " [1.0, 3.0, 31.8, 1.0, 0, 0],\n",
       " [1.0, 2.0, 20.0, 1.0, 1, 0],\n",
       " [1.0, 4.0, 45.0, 1.0, 0, 0],\n",
       " [1.0, 4.0, 17.0, 1.0, 1, 0],\n",
       " [1.0, 2.0, 21.0, 1.0, 0, 0],\n",
       " [1.0, 4.0, 37.0, 1.0, 0, 0],\n",
       " [1.0, 3.0, 29.5, 1.0, 0, 0],\n",
       " [1.0, 4.0, 27.0, 1.0, 0, 0],\n",
       " [1.0, 2.0, 7.5, 1.0, 0, 0],\n",
       " [1.0, 3.0, 50.0, 1.0, 1, 0],\n",
       " [1.0, 5.0, 35.0, 1.0, 0, 0],\n",
       " [1.0, 2.0, 19.0, 1.0, 1, 0],\n",
       " [1.0, 4.0, 41.0, 1.0, 1, 0],\n",
       " [1.0, 8.0, 39.0, 1.0, 1, 0],\n",
       " [1.0, 3.0, 22.0, 1.0, 0, 0],\n",
       " [1.0, 6.0, 53.0, 1.0, 0, 0],\n",
       " [1.0, 6.0, 40.0, 0.0, 0, 0],\n",
       " [1.0, 4.0, 47.0, 1.0, 0, 0],\n",
       " [1.0, 11.0, 72.2, 1.0, 1, 0],\n",
       " [1.0, 5.0, 49.9, 0.0, 1, 0],\n",
       " [1.0, 4.0, 9.0, 1.0, 0, 0],\n",
       " [1.0, 3.0, 11.0, 0.0, 1, 0],\n",
       " [1.0, 10.0, 49.0, 0.0, 1, 0],\n",
       " [1.0, 9.0, 95.0, 0.0, 1, 0],\n",
       " [1.0, 5.0, 11.0, 1.0, 1, 0],\n",
       " [1.0, 3.0, 18.0, 1.0, 1, 0],\n",
       " [1.0, 7.0, 46.1, 0.0, 1, 0],\n",
       " [1.0, 4.0, 16.0, 1.0, 1, 0],\n",
       " [1.0, 4.0, 18.0, 1.0, 1, 0],\n",
       " [1.0, 2.0, 9.654, 1.0, 1, 0],\n",
       " [1.0, 10.0, 11.0, 0.0, 1, 0],\n",
       " [1.0, 9.0, 24.3, 0.0, 1, 0],\n",
       " [1.0, 5.0, 42.163, 1.0, 0, 0],\n",
       " [1.0, 3.0, 8.0, 1.0, 0, 0],\n",
       " [1.0, 5.0, 30.0, 1.0, 0, 0],\n",
       " [1.0, 5.0, 41.0, 1.0, 1, 0],\n",
       " [1.0, 5.0, 12.0, 1.0, 0, 0],\n",
       " [1.0, 12.0, 71.0, 1.0, 1, 0],\n",
       " [1.0, 5.0, 20.0, 0.0, 1, 0],\n",
       " [1.0, 4.0, 30.0, 1.0, 1, 0],\n",
       " [1.0, 10.0, 100.0, 0.0, 0, 0],\n",
       " [1.0, 3.0, 9.5, 0.0, 1, 0],\n",
       " [1.0, 10.0, 120.0, 0.0, 0, 0],\n",
       " [1.0, 6.0, 36.6, 0.0, 1, 0],\n",
       " [1.0, 6.0, 50.0, 1.0, 1, 0],\n",
       " [1.0, 5.0, 14.0, 0.0, 1, 0],\n",
       " [1.0, 22.0, 40.0, 0.0, 1, 0],\n",
       " [1.0, 11.0, 120.0, 0.0, 0, 0],\n",
       " [1.0, 6.0, 70.0, 0.0, 1, 0],\n",
       " [1.0, 2.0, 13.0, 0.0, 1, 0],\n",
       " [1.0, 7.0, 60.0, 0.0, 1, 0],\n",
       " [1.0, 7.0, 35.0, 0.0, 1, 0],\n",
       " [1.0, 5.0, 44.0, 0.0, 1, 0],\n",
       " [1.0, 16.0, 120.0, 0.0, 1, 0],\n",
       " [1.0, 11.0, 60.0, 0.0, 0, 0],\n",
       " [1.0, 21.0, 60.0, 0.0, 1, 0],\n",
       " [1.0, 7.0, 30.0, 0.0, 0, 0],\n",
       " [1.0, 5.0, 15.0, 0.0, 1, 0],\n",
       " [1.0, 4.0, 90.0, 0.0, 0, 0],\n",
       " [1.0, 12.0, 47.0, 0.0, 1, 0],\n",
       " [1.0, 16.0, 90.0, 0.0, 1, 0],\n",
       " [1.0, 11.0, 120.6, 0.0, 1, 0],\n",
       " [1.0, 11.0, 100.0, 0.0, 1, 0],\n",
       " [1.0, 5.0, 60.0, 0.0, 1, 0],\n",
       " [1.0, 16.0, 86.0, 0.0, 1, 0],\n",
       " [1.0, 1.0, 5.0, 0.0, 1, 0],\n",
       " [1.0, 4.0, 37.0, 0.0, 0, 0],\n",
       " [1.0, 2.0, 14.0, 0.0, 1, 0],\n",
       " [1.0, 6.0, 70.0, 0.0, 0, 0],\n",
       " [1.0, 9.0, 120.0, 0.0, 0, 0],\n",
       " [1.0, 6.0, 50.0, 0.0, 1, 0],\n",
       " [1.0, 7.0, 60.0, 0.0, 1, 0],\n",
       " [1.0, 5.0, 50.0, 0.0, 0, 1],\n",
       " [1.0, 4.0, 50.0, 0.0, 1, 0],\n",
       " [1.0, 8.0, 70.0, 0.0, 1, 0],\n",
       " [1.0, 18.0, 90.0, 0.0, 1, 0],\n",
       " [1.0, 3.0, 35.0, 1.0, 1, 0],\n",
       " [1.0, 4.0, 20.0, 0.0, 1, 0],\n",
       " [1.0, 3.0, 20.0, 0.0, 1, 0],\n",
       " [1.0, 3.0, 7.8, 1.0, 1, 0],\n",
       " [1.0, 4.0, 20.0, 0.0, 1, 0],\n",
       " [1.0, 2.0, 15.0, 0.0, 0, 0],\n",
       " [1.0, 8.0, 31.377, 0.0, 1, 0],\n",
       " [1.0, 3.0, 50.0, 0.0, 0, 0],\n",
       " [1.0, 6.0, 60.0, 0.0, 1, 0],\n",
       " [1.0, 9.0, 100.0, 1.0, 1, 0],\n",
       " [1.0, 9.0, 60.0, 0.0, 1, 0],\n",
       " [1.0, 3.0, 5.0, 1.0, 1, 0],\n",
       " [1.0, 4.0, 60.0, 0.0, 0, 0],\n",
       " [1.0, 10.0, 25.0, 0.0, 1, 0],\n",
       " [1.0, 3.0, 30.0, 0.0, 1, 0],\n",
       " [1.0, 4.0, 80.0, 0.0, 1, 0],\n",
       " [1.0, 4.0, 75.0, 0.0, 0, 0],\n",
       " [1.0, 1.0, 32.0, 0.0, 1, 0],\n",
       " [1.0, 6.0, 40.0, 0.0, 1, 0],\n",
       " [1.0, 9.0, 93.0, 0.0, 1, 0],\n",
       " [1.0, 3.0, 60.0, 0.0, 1, 0],\n",
       " [1.0, 13.0, 120.0, 0.0, 1, 0],\n",
       " [1.0, 7.0, 37.0, 0.0, 1, 0],\n",
       " [1.0, 3.0, 15.0, 0.0, 1, 0],\n",
       " [1.0, 6.0, 80.0, 0.0, 1, 0],\n",
       " [1.0, 5.0, 140.0, 0.0, 1, 0],\n",
       " [1.0, 8.0, 70.0, 0.0, 0, 0],\n",
       " [1.0, 8.0, 120.0, 0.0, 0, 0],\n",
       " [1.0, 11.0, 110.0, 0.0, 0, 0],\n",
       " [1.0, 4.0, 37.0, 0.0, 0, 0],\n",
       " [1.0, 5.0, 44.0, 0.0, 1, 0],\n",
       " [1.0, 6.0, 80.0, 0.0, 0, 0],\n",
       " [1.0, 6.0, 125.0, 0.0, 0, 0],\n",
       " [1.0, 4.0, 13.5, 0.0, 1, 0],\n",
       " [1.0, 10.0, 75.0, 0.0, 1, 0],\n",
       " [1.0, 14.0, 120.0, 0.0, 1, 0],\n",
       " [1.0, 9.0, 120.0, 0.0, 0, 0],\n",
       " [1.0, 8.0, 70.0, 0.0, 0, 0],\n",
       " [1.0, 8.0, 70.0, 0.0, 0, 0],\n",
       " [1.0, 2.0, 15.0, 1.0, 1, 0],\n",
       " [1.0, 12.0, 53.0, 0.0, 1, 0],\n",
       " [1.0, 7.0, 120.0, 0.0, 0, 0],\n",
       " [1.0, 5.0, 70.0, 0.0, 0, 0],\n",
       " [1.0, 13.0, 120.0, 0.0, 1, 0],\n",
       " [1.0, 9.0, 100.0, 0.0, 1, 0],\n",
       " [1.0, 16.0, 110.0, 0.0, 0, 0],\n",
       " [1.0, 6.0, 100.0, 0.0, 1, 0],\n",
       " [1.0, 8.0, 162.5, 0.0, 0, 0],\n",
       " [1.0, 4.0, 39.0, 0.0, 0, 0],\n",
       " [1.0, 4.0, 75.0, 0.0, 0, 0],\n",
       " [1.0, 4.0, 50.0, 1.0, 0, 0],\n",
       " [1.0, 2.0, 40.0, 0.0, 0, 0],\n",
       " [1.0, 8.0, 92.5, 0.0, 0, 0],\n",
       " [1.0, 9.0, 158.0, 0.0, 0, 0],\n",
       " [1.0, 9.0, 120.0, 0.0, 0, 0],\n",
       " [1.0, 6.0, 50.0, 0.0, 0, 0],\n",
       " [1.0, 9.0, 110.0, 0.0, 0, 0],\n",
       " [1.0, 4.0, 2.0, 0.0, 0, 0],\n",
       " [1.0, 10.0, 181.0, 0.0, 0, 0],\n",
       " [1.0, 5.0, 70.0, 0.0, 0, 0],\n",
       " [1.0, 8.0, 90.0, 1.0, 1, 0],\n",
       " [1.0, 2.0, 2.0, 0.0, 1, 0],\n",
       " [1.0, 6.0, 20.0, 0.0, 1, 0],\n",
       " [1.0, 10.0, 120.0, 0.0, 0, 0],\n",
       " [1.0, 4.0, 35.0, 0.0, 0, 0],\n",
       " [1.0, 9.0, 193.0, 0.0, 0, 0],\n",
       " [1.0, 7.0, 80.0, 0.0, 1, 0],\n",
       " [1.0, 2.0, 40.0, 0.0, 1, 0],\n",
       " [1.0, 6.0, 70.0, 0.0, 0, 0],\n",
       " [1.0, 10.0, 122.358, 0.0, 0, 0],\n",
       " [1.0, 6.0, 75.0, 0.0, 0, 0],\n",
       " [1.0, 4.0, 120.0, 0.0, 0, 0],\n",
       " [1.0, 6.0, 40.0, 0.0, 1, 0],\n",
       " [1.0, 13.0, 95.2, 0.0, 1, 0],\n",
       " [1.0, 7.0, 33.033, 0.0, 1, 0],\n",
       " [1.0, 6.0, 63.063, 1.0, 1, 0],\n",
       " [1.0, 9.0, 60.0, 0.0, 0, 0],\n",
       " [1.0, 16.0, 45.0, 0.0, 1, 0],\n",
       " [1.0, 10.0, 80.0, 0.0, 0, 0],\n",
       " [1.0, 12.0, 170.0, 0.0, 0, 0],\n",
       " [1.0, 14.0, 207.89, 0.0, 0, 0],\n",
       " [1.0, 3.0, 7.976, 1.0, 0, 0],\n",
       " [1.0, 5.0, 35.0, 0.0, 1, 0],\n",
       " [1.0, 4.0, 35.0, 0.0, 1, 0],\n",
       " [1.0, 4.0, 35.0, 0.0, 1, 0],\n",
       " [1.0, 8.0, 50.0, 1.0, 1, 0],\n",
       " [1.0, 5.0, 20.0, 0.0, 1, 0],\n",
       " [1.0, 10.0, 20.0, 1.0, 1, 0],\n",
       " [1.0, 9.0, 50.0, 0.0, 1, 0],\n",
       " [1.0, 9.0, 50.0, 0.0, 1, 0],\n",
       " [1.0, 7.0, 120.0, 0.0, 0, 0],\n",
       " [1.0, 7.0, 70.0, 0.0, 1, 0],\n",
       " [1.0, 6.0, 50.0, 0.0, 1, 0],\n",
       " [1.0, 2.0, 16.5, 0.0, 1, 0],\n",
       " [1.0, 11.0, 70.0, 0.0, 1, 0],\n",
       " [1.0, 16.0, 99.361, 0.0, 1, 0],\n",
       " [1.0, 4.0, 25.0, 0.0, 0, 0],\n",
       " [1.0, 7.0, 70.0, 0.0, 1, 0],\n",
       " [1.0, 6.0, 80.0, 0.0, 0, 0],\n",
       " [1.0, 11.0, 70.0, 0.0, 1, 0],\n",
       " [1.0, 7.0, 70.0, 0.0, 1, 0],\n",
       " [1.0, 9.0, 60.0, 0.0, 1, 0],\n",
       " [1.0, 3.0, 10.0, 1.0, 1, 0],\n",
       " [1.0, 15.0, 80.0, 0.0, 1, 0],\n",
       " [1.0, 4.0, 30.0, 0.0, 0, 0],\n",
       " [1.0, 4.0, 33.0, 0.0, 0, 0],\n",
       " [1.0, 8.0, 90.0, 0.0, 1, 0],\n",
       " [1.0, 7.0, 80.1, 0.0, 0, 0],\n",
       " [1.0, 7.0, 120.0, 0.0, 1, 0],\n",
       " [1.0, 38.0, 10.0, 0.0, 0, 0],\n",
       " [1.0, 5.0, 40.0, 0.0, 1, 0],\n",
       " [1.0, 8.0, 160.0, 0.0, 0, 0],\n",
       " [1.0, 4.0, 47.0, 0.0, 1, 0],\n",
       " [1.0, 3.0, 25.0, 0.0, 0, 0],\n",
       " [1.0, 4.0, 26.0, 0.0, 1, 0],\n",
       " [1.0, 3.0, 29.0, 0.0, 0, 0],\n",
       " [1.0, 5.0, 50.0, 1.0, 1, 0],\n",
       " [1.0, 10.0, 58.0, 0.0, 1, 0],\n",
       " [1.0, 9.0, 120.0, 1.0, 1, 0],\n",
       " [1.0, 7.0, 50.0, 0.0, 1, 0],\n",
       " [1.0, 11.0, 80.0, 0.0, 1, 0],\n",
       " [1.0, 18.0, 60.0, 0.0, 1, 0],\n",
       " [1.0, 4.0, 36.0, 0.0, 1, 0],\n",
       " [1.0, 14.0, 120.0, 0.0, 0, 0],\n",
       " [1.0, 10.0, 185.0, 0.0, 0, 0],\n",
       " [1.0, 10.0, 50.0, 0.0, 0, 0],\n",
       " [1.0, 19.0, 100.0, 0.0, 1, 0],\n",
       " [1.0, 8.0, 50.0, 0.0, 1, 0],\n",
       " [1.0, 14.0, 80.0, 0.0, 1, 0],\n",
       " [1.0, 16.0, 60.0, 0.0, 1, 0],\n",
       " [1.0, 16.0, 80.0, 0.0, 1, 0],\n",
       " [1.0, 10.0, 90.0, 0.0, 0, 0],\n",
       " [1.0, 11.0, 162.0, 0.0, 1, 0],\n",
       " [1.0, 8.0, 110.0, 0.0, 0, 0],\n",
       " [1.0, 13.0, 120.0, 0.0, 0, 0],\n",
       " [1.0, 10.0, 45.0, 0.0, 0, 0],\n",
       " [1.0, 16.0, 90.0, 0.0, 1, 0],\n",
       " [1.0, 11.0, 90.0, 0.0, 0, 0],\n",
       " [1.0, 2.0, 16.5, 0.0, 1, 0],\n",
       " [1.0, 4.0, 67.0, 1.0, 0, 0],\n",
       " [1.0, 3.0, 52.0, 0.0, 1, 0],\n",
       " [1.0, 5.0, 40.0, 0.0, 1, 0],\n",
       " [1.0, 6.0, 40.0, 0.0, 1, 0],\n",
       " [1.0, 3.0, 35.0, 0.0, 0, 0],\n",
       " [1.0, 3.0, 13.0, 0.0, 1, 0],\n",
       " [1.0, 9.0, 40.0, 0.0, 1, 0],\n",
       " [1.0, 2.0, 10.0, 0.0, 1, 0],\n",
       " [1.0, 9.0, 9.0, 0.0, 1, 0],\n",
       " [1.0, 8.0, 70.0, 0.0, 0, 0],\n",
       " [1.0, 12.0, 60.0, 0.0, 1, 0],\n",
       " [1.0, 7.0, 40.0, 0.0, 0, 0],\n",
       " [1.0, 9.0, 93.0, 0.0, 0, 0],\n",
       " [1.0, 13.0, 80.0, 0.0, 0, 0],\n",
       " [1.0, 10.0, 50.0, 0.0, 1, 0],\n",
       " [1.0, 8.0, 68.0, 1.0, 1, 0],\n",
       " [1.0, 8.0, 25.0, 1.0, 0, 0],\n",
       " [1.0, 9.0, 18.0, 0.0, 1, 0],\n",
       " [1.0, 8.0, 120.0, 0.0, 0, 0],\n",
       " [1.0, 16.0, 35.0, 0.0, 1, 0],\n",
       " [1.0, 5.0, 60.0, 0.0, 0, 0],\n",
       " [1.0, 11.0, 70.0, 0.0, 1, 0],\n",
       " [1.0, 5.0, 30.0, 0.0, 1, 0],\n",
       " [1.0, 5.0, 70.0, 1.0, 1, 0],\n",
       " [1.0, 4.0, 9.0, 1.0, 0, 0],\n",
       " [1.0, 2.0, 20.0, 1.0, 1, 0],\n",
       " [1.0, 4.0, 45.0, 1.0, 0, 0],\n",
       " [1.0, 6.0, 110.0, 0.0, 0, 0],\n",
       " [1.0, 2.0, 20.0, 1.0, 0, 0],\n",
       " [1.0, 5.0, 68.089, 1.0, 1, 0],\n",
       " [1.0, 8.0, 58.343, 0.0, 1, 0],\n",
       " [1.0, 3.0, 38.817, 0.0, 0, 0],\n",
       " [1.0, 5.0, 56.494, 0.0, 1, 0],\n",
       " [1.0, 8.0, 79.328, 0.0, 0, 0],\n",
       " [1.0, 2.0, 5.621, 1.0, 1, 0],\n",
       " [1.0, 4.0, 25.538, 0.0, 1, 0],\n",
       " [1.0, 3.0, 69.779, 1.0, 1, 0],\n",
       " [1.0, 4.0, 56.29, 0.0, 0, 0],\n",
       " [1.0, 2.0, 7.5, 1.0, 0, 0],\n",
       " [1.0, 2.0, 8.5, 1.0, 0, 0],\n",
       " [1.0, 2.0, 7.032, 1.0, 1, 0],\n",
       " [1.0, 5.0, 11.0, 1.0, 1, 0],\n",
       " [1.0, 3.0, 2.0, 1.0, 0, 0],\n",
       " [1.0, 11.0, 106.0, 0.0, 1, 0],\n",
       " [1.0, 9.0, 162.0, 0.0, 0, 0],\n",
       " [1.0, 12.0, 120.0, 1.0, 1, 0],\n",
       " [1.0, 6.0, 90.0, 0.0, 0, 0],\n",
       " [1.0, 7.0, 70.0, 0.0, 0, 0],\n",
       " [1.0, 16.0, 240.0, 0.0, 0, 0],\n",
       " [1.0, 9.0, 100.0, 0.0, 0, 0],\n",
       " [1.0, 12.0, 214.0, 0.0, 1, 0],\n",
       " [1.0, 12.0, 214.0, 0.0, 0, 0],\n",
       " [1.0, 5.0, 50.0, 0.0, 1, 0],\n",
       " [1.0, 3.0, 1.0, 1.0, 1, 0],\n",
       " [1.0, 4.0, 19.0, 1.0, 0, 0],\n",
       " [1.0, 9.0, 265.0, 0.0, 0, 0],\n",
       " [1.0, 1.0, 35.0, 0.0, 0, 1],\n",
       " [1.0, 7.0, 80.0, 0.0, 1, 0],\n",
       " [1.0, 5.0, 50.0, 1.0, 0, 0],\n",
       " [1.0, 11.0, 80.0, 0.0, 1, 0],\n",
       " [1.0, 8.0, 50.0, 0.0, 1, 0],\n",
       " [1.0, 3.0, 100.0, 0.0, 1, 0],\n",
       " [1.0, 8.0, 120.0, 0.0, 1, 0],\n",
       " [1.0, 4.0, 9.0, 1.0, 0, 0],\n",
       " [1.0, 2.0, 20.0, 1.0, 1, 0],\n",
       " [1.0, 4.0, 45.0, 1.0, 0, 0],\n",
       " [1.0, 6.0, 110.0, 0.0, 0, 0],\n",
       " [1.0, 2.0, 20.0, 1.0, 0, 0],\n",
       " [1.0, 5.0, 68.089, 1.0, 1, 0],\n",
       " [1.0, 8.0, 58.343, 0.0, 1, 0],\n",
       " [1.0, 3.0, 38.817, 0.0, 0, 0],\n",
       " [1.0, 5.0, 56.494, 0.0, 1, 0],\n",
       " [1.0, 8.0, 79.328, 0.0, 0, 0],\n",
       " [1.0, 2.0, 5.621, 1.0, 1, 0],\n",
       " [1.0, 4.0, 25.538, 0.0, 1, 0],\n",
       " [1.0, 3.0, 69.779, 1.0, 1, 0],\n",
       " [1.0, 4.0, 56.29, 0.0, 0, 0],\n",
       " [1.0, 2.0, 7.5, 1.0, 0, 0],\n",
       " [1.0, 2.0, 8.5, 1.0, 0, 0],\n",
       " [1.0, 2.0, 7.032, 1.0, 1, 0],\n",
       " [1.0, 5.0, 11.0, 1.0, 1, 0],\n",
       " [1.0, 3.0, 2.0, 1.0, 0, 0],\n",
       " [1.0, 2.0, 40.0, 1.0, 0, 0],\n",
       " [1.0, 4.0, 45.0, 0.0, 0, 0],\n",
       " [1.0, 11.0, 80.0, 0.0, 1, 0],\n",
       " [1.0, 6.0, 135.0, 0.0, 0, 0],\n",
       " [1.0, 6.0, 120.0, 0.0, 0, 0],\n",
       " [1.0, 8.0, 67.0, 0.0, 0, 0],\n",
       " [1.0, 4.0, 50.0, 0.0, 0, 0],\n",
       " [1.0, 13.0, 134.0, 0.0, 0, 0],\n",
       " [1.0, 10.0, 110.0, 0.0, 0, 0],\n",
       " [1.0, 12.0, 40.0, 0.0, 1, 0],\n",
       " [1.0, 8.0, 120.0, 0.0, 0, 0],\n",
       " [1.0, 6.0, 110.0, 0.0, 0, 0],\n",
       " [1.0, 10.0, 170.0, 0.0, 0, 0],\n",
       " [1.0, 17.0, 80.0, 0.0, 1, 0],\n",
       " [1.0, 5.0, 47.0, 0.0, 0, 0],\n",
       " [1.0, 6.0, 93.0, 0.0, 1, 0],\n",
       " [1.0, 11.0, 70.0, 0.0, 1, 0],\n",
       " [1.0, 7.0, 50.0, 0.0, 1, 0],\n",
       " [1.0, 6.0, 70.0, 0.0, 0, 0],\n",
       " [1.0, 9.0, 80.0, 0.0, 0, 0],\n",
       " [1.0, 5.0, 44.0, 0.0, 1, 0],\n",
       " [1.0, 7.0, 25.0, 0.0, 1, 0],\n",
       " [1.0, 5.0, 25.0, 0.0, 1, 0],\n",
       " [1.0, 2.0, 10.0, 0.0, 1, 0],\n",
       " [1.0, 3.0, 50.0, 0.0, 0, 0],\n",
       " [1.0, 3.0, 30.0, 0.0, 0, 0],\n",
       " [1.0, 6.0, 50.0, 0.0, 0, 0],\n",
       " [1.0, 9.0, 120.0, 0.0, 0, 0],\n",
       " [1.0, 2.0, 40.0, 1.0, 0, 0],\n",
       " [1.0, 6.0, 80.0, 0.0, 0, 0],\n",
       " [1.0, 6.0, 90.0, 0.0, 0, 0],\n",
       " [1.0, 6.0, 50.0, 0.0, 1, 0],\n",
       " [1.0, 1.0, 2.136, 0.0, 1, 0],\n",
       " [1.0, 9.0, 250.0, 0.0, 0, 0],\n",
       " [1.0, 6.0, 35.0, 0.0, 1, 0],\n",
       " [1.0, 6.0, 120.0, 0.0, 0, 0],\n",
       " [1.0, 4.0, 70.0, 0.0, 0, 0],\n",
       " [1.0, 3.0, 18.0, 0.0, 0, 0],\n",
       " [1.0, 5.0, 110.0, 0.0, 0, 0],\n",
       " [1.0, 4.0, 60.0, 0.0, 0, 0],\n",
       " [1.0, 6.0, 60.0, 1.0, 0, 0],\n",
       " [1.0, 5.0, 147.0, 0.0, 0, 0],\n",
       " [1.0, 6.0, 130.0, 1.0, 0, 0],\n",
       " [1.0, 10.0, 99.5, 0.0, 0, 0],\n",
       " [1.0, 10.0, 110.0, 0.0, 0, 0],\n",
       " [1.0, 5.0, 35.0, 0.0, 1, 0],\n",
       " [1.0, 11.0, 110.0, 0.0, 0, 0],\n",
       " [1.0, 5.0, 100.0, 0.0, 0, 0],\n",
       " [1.0, 7.0, 21.0, 0.0, 1, 0],\n",
       " [1.0, 8.0, 60.0, 0.0, 0, 0],\n",
       " [1.0, 11.0, 40.0, 0.0, 0, 0],\n",
       " [1.0, 13.0, 50.0, 0.0, 1, 0],\n",
       " [1.0, 11.0, 65.0, 0.0, 1, 0],\n",
       " [1.0, 10.0, 80.0, 0.0, 1, 0],\n",
       " [1.0, 6.0, 119.0, 0.0, 0, 0],\n",
       " [1.0, 5.0, 80.0, 0.0, 0, 0],\n",
       " [1.0, 4.0, 90.0, 0.0, 0, 0],\n",
       " [1.0, 5.0, 20.0, 0.0, 1, 0],\n",
       " [1.0, 7.0, 80.0, 0.0, 0, 0],\n",
       " [1.0, 1.0, 44.665, 0.0, 0, 0],\n",
       " [1.0, 2.0, 10.0, 0.0, 0, 0],\n",
       " [1.0, 3.0, 60.0, 0.0, 1, 0],\n",
       " [1.0, 5.0, 22.0, 0.0, 1, 0],\n",
       " [1.0, 7.0, 25.0, 0.0, 1, 0],\n",
       " [1.0, 5.0, 70.0, 0.0, 0, 0],\n",
       " [1.0, 13.0, 123.0, 0.0, 1, 0],\n",
       " [1.0, 10.0, 70.0, 0.0, 0, 0],\n",
       " [1.0, 8.0, 70.0, 0.0, 1, 0],\n",
       " [1.0, 8.0, 45.0, 0.0, 0, 0],\n",
       " [1.0, 6.0, 40.0, 1.0, 1, 0],\n",
       " [1.0, 2.0, 30.0, 0.0, 0, 0],\n",
       " [1.0, 14.0, 90.0, 1.0, 1, 0],\n",
       " [1.0, 5.0, 34.0, 0.0, 1, 0],\n",
       " [1.0, 4.0, 25.0, 0.0, 1, 0],\n",
       " [1.0, 5.0, 50.0, 0.0, 1, 0],\n",
       " [1.0, 8.0, 50.0, 0.0, 0, 0],\n",
       " [1.0, 4.0, 90.0, 0.0, 1, 0],\n",
       " [1.0, 9.0, 70.0, 0.0, 0, 0],\n",
       " [1.0, 12.0, 146.0, 0.0, 0, 0],\n",
       " [1.0, 9.0, 85.0, 0.0, 1, 0],\n",
       " [1.0, 12.0, 201.85, 0.0, 0, 0],\n",
       " [1.0, 5.0, 30.0, 0.0, 0, 0],\n",
       " [1.0, 3.0, 15.0, 0.0, 0, 0],\n",
       " [1.0, 4.0, 25.0, 0.0, 1, 0],\n",
       " [1.0, 10.0, 90.0, 0.0, 1, 0],\n",
       " [1.0, 13.0, 80.0, 0.0, 0, 0],\n",
       " [1.0, 10.0, 50.0, 0.0, 0, 0],\n",
       " [1.0, 9.0, 80.0, 0.0, 0, 0],\n",
       " [1.0, 11.0, 110.0, 0.0, 0, 0],\n",
       " [1.0, 5.0, 38.0, 0.0, 1, 0],\n",
       " [1.0, 8.0, 60.0, 0.0, 1, 0],\n",
       " [1.0, 5.0, 100.0, 0.0, 1, 0],\n",
       " [1.0, 9.0, 30.0, 0.0, 1, 0],\n",
       " [1.0, 7.0, 30.0, 0.0, 1, 0],\n",
       " [1.0, 6.0, 50.0, 0.0, 1, 0],\n",
       " [1.0, 4.0, 42.0, 0.0, 1, 0],\n",
       " [1.0, 5.0, 30.0, 0.0, 1, 0],\n",
       " [1.0, 12.0, 60.0, 0.0, 1, 0],\n",
       " [1.0, 3.0, 14.0, 0.0, 0, 0],\n",
       " [1.0, 6.0, 22.0, 0.0, 1, 0],\n",
       " [1.0, 9.0, 90.0, 0.0, 0, 0],\n",
       " [1.0, 10.0, 46.0, 0.0, 1, 0],\n",
       " [1.0, 3.0, 20.0, 0.0, 1, 0],\n",
       " [1.0, 7.0, 15.0, 0.0, 0, 0],\n",
       " [1.0, 6.0, 40.0, 0.0, 1, 0],\n",
       " [1.0, 7.0, 30.0, 0.0, 1, 0],\n",
       " [1.0, 4.0, 15.0, 0.0, 1, 0],\n",
       " [1.0, 11.0, 50.0, 0.0, 1, 0],\n",
       " [1.0, 14.0, 110.0, 0.0, 1, 0],\n",
       " [1.0, 12.0, 70.0, 0.0, 1, 0],\n",
       " [1.0, 6.0, 80.0, 0.0, 1, 0],\n",
       " [1.0, 13.0, 50.0, 0.0, 0, 0],\n",
       " [1.0, 6.0, 110.0, 0.0, 1, 0],\n",
       " [1.0, 8.0, 70.0, 0.0, 0, 0],\n",
       " [1.0, 19.0, 50.0, 0.0, 1, 0],\n",
       " [1.0, 8.0, 190.0, 0.0, 0, 0],\n",
       " [1.0, 11.0, 100.0, 0.0, 0, 0],\n",
       " [1.0, 6.0, 60.0, 0.0, 1, 0],\n",
       " [1.0, 6.0, 40.0, 0.0, 1, 0],\n",
       " [1.0, 12.0, 90.0, 0.0, 0, 0],\n",
       " [1.0, 6.0, 110.0, 0.0, 0, 0],\n",
       " [1.0, 4.0, 32.0, 0.0, 0, 0],\n",
       " [1.0, 5.0, 30.0, 1.0, 0, 0],\n",
       " [1.0, 5.0, 58.0, 0.0, 0, 0],\n",
       " [1.0, 3.0, 5.0, 0.0, 0, 0],\n",
       " [1.0, 3.0, 25.0, 0.0, 1, 0],\n",
       " [1.0, 3.0, 32.0, 0.0, 1, 0],\n",
       " [1.0, 5.0, 30.0, 0.0, 1, 0],\n",
       " [1.0, 4.0, 43.0, 0.0, 1, 0],\n",
       " [1.0, 9.0, 60.0, 0.0, 1, 0],\n",
       " [1.0, 6.0, 50.0, 1.0, 1, 0],\n",
       " [1.0, 3.0, 14.2, 0.0, 1, 0],\n",
       " [1.0, 4.0, 10.0, 0.0, 1, 0],\n",
       " [1.0, 3.0, 25.0, 0.0, 1, 0],\n",
       " [1.0, 3.0, 19.1, 0.0, 1, 0],\n",
       " [1.0, 2.0, 25.0, 1.0, 1, 0],\n",
       " [1.0, 7.0, 54.0, 0.0, 0, 0],\n",
       " [1.0, 3.0, 35.0, 0.0, 0, 0],\n",
       " [1.0, 3.0, 20.0, 0.0, 1, 0],\n",
       " [1.0, 5.0, 52.0, 0.0, 0, 0],\n",
       " [1.0, 10.0, 120.0, 0.0, 0, 0],\n",
       " [1.0, 4.0, 50.0, 0.0, 0, 0],\n",
       " [1.0, 8.0, 120.0, 0.0, 0, 0],\n",
       " [1.0, 11.0, 90.0, 0.0, 0, 0],\n",
       " [1.0, 17.0, 120.0, 0.0, 1, 0],\n",
       " [1.0, 6.0, 101.5, 0.0, 0, 0],\n",
       " [1.0, 8.0, 75.0, 1.0, 0, 0],\n",
       " [1.0, 10.0, 97.5, 0.0, 1, 0],\n",
       " [1.0, 10.0, 97.5, 0.0, 1, 0],\n",
       " [1.0, 5.0, 100.0, 0.0, 0, 0],\n",
       " [1.0, 9.0, 55.735, 0.0, 0, 0],\n",
       " [1.0, 7.0, 80.0, 0.0, 0, 0],\n",
       " [1.0, 5.0, 50.0, 0.0, 1, 0],\n",
       " [1.0, 8.0, 70.0, 0.0, 0, 0],\n",
       " [1.0, 9.0, 76.0, 0.0, 1, 0],\n",
       " [1.0, 1.0, 1.5, 0.0, 1, 0],\n",
       " [1.0, 9.0, 76.0, 0.0, 0, 0],\n",
       " [1.0, 6.0, 40.0, 0.0, 1, 0],\n",
       " [1.0, 6.0, 60.0, 0.0, 1, 0],\n",
       " [1.0, 12.0, 170.0, 0.0, 0, 0],\n",
       " [1.0, 8.0, 181.491, 0.0, 0, 0],\n",
       " [1.0, 5.0, 53.319, 0.0, 0, 0],\n",
       " [1.0, 4.0, 40.906, 0.0, 0, 0],\n",
       " [1.0, 9.0, 31.711, 0.0, 1, 0],\n",
       " [1.0, 9.0, 43.755, 0.0, 1, 0],\n",
       " [1.0, 5.0, 66.693, 0.0, 1, 0],\n",
       " [1.0, 11.0, 59.549, 0.0, 1, 0],\n",
       " [1.0, 6.0, 94.385, 0.0, 0, 0],\n",
       " [1.0, 11.0, 73.73, 0.0, 1, 0],\n",
       " [1.0, 10.0, 221.889, 0.0, 0, 0],\n",
       " [1.0, 8.0, 116.104, 0.0, 0, 0],\n",
       " [1.0, 6.0, 150.546, 0.0, 1, 0],\n",
       " [1.0, 8.0, 148.12, 0.0, 0, 0],\n",
       " [1.0, 6.0, 20.0, 0.0, 1, 0],\n",
       " [1.0, 3.0, 30.0, 1.0, 1, 0],\n",
       " [1.0, 10.0, 142.0, 0.0, 0, 0],\n",
       " [1.0, 10.0, 20.0, 0.0, 0, 0],\n",
       " [1.0, 12.0, 120.0, 0.0, 0, 0],\n",
       " [1.0, 10.0, 80.0, 0.0, 1, 0],\n",
       " [1.0, 5.0, 60.0, 0.0, 0, 0],\n",
       " [1.0, 5.0, 25.0, 0.0, 1, 0],\n",
       " [1.0, 10.0, 50.0, 0.0, 0, 0],\n",
       " [1.0, 4.0, 126.0, 0.0, 0, 0],\n",
       " [1.0, 6.0, 170.0, 0.0, 0, 0],\n",
       " [1.0, 8.0, 24.0, 0.0, 1, 0],\n",
       " [1.0, 4.0, 100.0, 0.0, 0, 0],\n",
       " [1.0, 2.0, 10.0, 0.0, 1, 0],\n",
       " [1.0, 9.0, 70.0, 0.0, 0, 0],\n",
       " [1.0, 4.0, 40.0, 0.0, 1, 0],\n",
       " [1.0, 10.0, 110.0, 0.0, 1, 0],\n",
       " [1.0, 13.0, 80.0, 0.0, 1, 0],\n",
       " [1.0, 6.0, 16.5, 0.0, 1, 0],\n",
       " [1.0, 4.0, 30.0, 0.0, 1, 0],\n",
       " [1.0, 4.0, 80.0, 0.0, 0, 0],\n",
       " [1.0, 5.0, 50.0, 0.0, 0, 0],\n",
       " [1.0, 5.0, 25.0, 0.0, 1, 0],\n",
       " [1.0, 2.0, 20.0, 0.0, 0, 0],\n",
       " [1.0, 5.0, 60.0, 0.0, 1, 0],\n",
       " [1.0, 10.0, 70.0, 0.0, 0, 0],\n",
       " [1.0, 7.0, 50.0, 0.0, 0, 0],\n",
       " [1.0, 17.0, 100.0, 1.0, 1, 0],\n",
       " [1.0, 6.0, 52.0, 0.0, 1, 0],\n",
       " [1.0, 7.0, 80.0, 0.0, 0, 0],\n",
       " [1.0, 6.0, 50.0, 0.0, 1, 0],\n",
       " [1.0, 5.0, 60.0, 0.0, 0, 0],\n",
       " [1.0, 2.0, 25.0, 0.0, 1, 0],\n",
       " [1.0, 7.0, 50.0, 0.0, 0, 0],\n",
       " [1.0, 5.0, 125.0, 0.0, 0, 0],\n",
       " [1.0, 5.0, 80.0, 0.0, 1, 0],\n",
       " [1.0, 4.0, 70.0, 0.0, 0, 0],\n",
       " [1.0, 11.0, 90.0, 0.0, 0, 0],\n",
       " [1.0, 4.0, 50.0, 0.0, 0, 0],\n",
       " [1.0, 5.0, 101.0, 0.0, 0, 0],\n",
       " [1.0, 11.0, 168.0, 0.0, 0, 0],\n",
       " [1.0, 11.0, 168.0, 0.0, 0, 0],\n",
       " [1.0, 10.0, 40.0, 0.0, 1, 0],\n",
       " [1.0, 12.0, 28.9, 0.0, 1, 0],\n",
       " [1.0, 9.0, 20.0, 0.0, 1, 0],\n",
       " [1.0, 4.0, 9.0, 1.0, 0, 0],\n",
       " [1.0, 2.0, 20.0, 1.0, 1, 0],\n",
       " [1.0, 4.0, 45.0, 1.0, 0, 0],\n",
       " [1.0, 6.0, 110.0, 0.0, 0, 0],\n",
       " [1.0, 2.0, 20.0, 1.0, 0, 0],\n",
       " [1.0, 5.0, 68.089, 1.0, 1, 0],\n",
       " [1.0, 8.0, 58.343, 0.0, 1, 0],\n",
       " [1.0, 3.0, 38.817, 0.0, 0, 0],\n",
       " [1.0, 5.0, 56.494, 0.0, 1, 0],\n",
       " [1.0, 8.0, 79.328, 0.0, 0, 0],\n",
       " [1.0, 2.0, 5.621, 1.0, 1, 0],\n",
       " [1.0, 4.0, 25.538, 0.0, 1, 0],\n",
       " [1.0, 3.0, 69.779, 1.0, 1, 0],\n",
       " [1.0, 4.0, 56.29, 0.0, 0, 0],\n",
       " [1.0, 2.0, 7.5, 1.0, 0, 0],\n",
       " [1.0, 2.0, 8.5, 1.0, 0, 0],\n",
       " [1.0, 2.0, 7.032, 1.0, 1, 0],\n",
       " [1.0, 5.0, 11.0, 1.0, 1, 0],\n",
       " [1.0, 3.0, 2.0, 1.0, 0, 0],\n",
       " [1.0, 6.0, 165.0, 0.0, 0, 0],\n",
       " [1.0, 9.0, 98.5, 0.0, 1, 0],\n",
       " [1.0, 13.0, 98.0, 0.0, 1, 0],\n",
       " [1.0, 7.0, 40.0, 0.0, 0, 0],\n",
       " [1.0, 8.0, 90.0, 0.0, 0, 0],\n",
       " [1.0, 9.0, 90.0, 0.0, 1, 0],\n",
       " [1.0, 12.0, 110.0, 0.0, 0, 0],\n",
       " [1.0, 3.0, 77.8, 0.0, 0, 0],\n",
       " [1.0, 6.0, 100.0, 0.0, 0, 0],\n",
       " [1.0, 9.0, 120.0, 0.0, 0, 0],\n",
       " [1.0, 5.0, 80.0, 0.0, 1, 0],\n",
       " [1.0, 3.0, 21.0, 0.0, 1, 0],\n",
       " [1.0, 3.0, 100.0, 0.0, 1, 0],\n",
       " [1.0, 2.0, 25.0, 0.0, 1, 0],\n",
       " [1.0, 2.0, 30.0, 0.0, 0, 0],\n",
       " [1.0, 3.0, 25.0, 1.0, 1, 0],\n",
       " [1.0, 5.0, 40.0, 1.0, 0, 0],\n",
       " [1.0, 9.0, 160.0, 1.0, 0, 0],\n",
       " [1.0, 3.0, 51.492, 0.0, 1, 0],\n",
       " [1.0, 10.0, 72.0, 0.0, 0, 0],\n",
       " [1.0, 5.0, 60.0, 0.0, 1, 0],\n",
       " [1.0, 8.0, 136.0, 0.0, 0, 0],\n",
       " [1.0, 7.0, 60.0, 0.0, 1, 0],\n",
       " [1.0, 15.0, 110.0, 0.0, 1, 0],\n",
       " [1.0, 8.0, 90.0, 0.0, 1, 0],\n",
       " [1.0, 7.0, 91.0, 0.0, 0, 0],\n",
       " [1.0, 12.0, 90.0, 0.0, 1, 0],\n",
       " [1.0, 6.0, 50.0, 0.0, 1, 0],\n",
       " [1.0, 11.0, 20.0, 0.0, 1, 0],\n",
       " [1.0, 10.0, 120.0, 0.0, 0, 0],\n",
       " [1.0, 12.0, 150.0, 0.0, 1, 0],\n",
       " [1.0, 6.0, 52.0, 0.0, 0, 0],\n",
       " [1.0, 7.0, 167.0, 0.0, 0, 0],\n",
       " [1.0, 4.0, 40.0, 0.0, 0, 0],\n",
       " [1.0, 11.0, 190.0, 0.0, 0, 0],\n",
       " [1.0, 5.0, 50.0, 0.0, 1, 0],\n",
       " [1.0, 10.0, 70.0, 0.0, 0, 0],\n",
       " [1.0, 9.0, 80.0, 0.0, 1, 0],\n",
       " [1.0, 13.0, 120.0, 0.0, 0, 0],\n",
       " [1.0, 6.0, 40.0, 0.0, 0, 0],\n",
       " [1.0, 6.0, 17.0, 0.0, 1, 0],\n",
       " [1.0, 11.0, 180.0, 0.0, 1, 0],\n",
       " [1.0, 5.0, 50.0, 0.0, 1, 0],\n",
       " [1.0, 7.0, 65.0, 0.0, 1, 0],\n",
       " [1.0, 10.0, 10.0, 0.0, 1, 0],\n",
       " [1.0, 12.0, 70.0, 0.0, 0, 0],\n",
       " [1.0, 7.0, 90.0, 0.0, 0, 0],\n",
       " [1.0, 6.0, 50.0, 0.0, 0, 0],\n",
       " [1.0, 2.0, 10.0, 0.0, 1, 0],\n",
       " [1.0, 2.0, 25.0, 0.0, 0, 0],\n",
       " [1.0, 10.0, 100.0, 0.0, 0, 0],\n",
       " [1.0, 14.0, 70.0, 1.0, 1, 0],\n",
       " [1.0, 4.0, 30.0, 0.0, 1, 0],\n",
       " [1.0, 5.0, 40.0, 0.0, 1, 0],\n",
       " [1.0, 9.0, 135.0, 0.0, 0, 0],\n",
       " [1.0, 7.0, 35.0, 0.0, 1, 0],\n",
       " [1.0, 17.0, 120.0, 0.0, 1, 0],\n",
       " [1.0, 9.0, 120.0, 0.0, 0, 0],\n",
       " [1.0, 9.0, 190.0, 0.0, 0, 0],\n",
       " [1.0, 5.0, 120.0, 0.0, 0, 0],\n",
       " [1.0, 9.0, 120.0, 0.0, 0, 0],\n",
       " [1.0, 10.0, 175.0, 0.0, 0, 0],\n",
       " [1.0, 10.0, 175.0, 0.0, 0, 0],\n",
       " [1.0, 10.0, 25.0, 0.0, 1, 0],\n",
       " [1.0, 8.0, 80.0, 0.0, 0, 0],\n",
       " [1.0, 4.0, 70.0, 0.0, 0, 0],\n",
       " [1.0, 3.0, 10.0, 0.0, 1, 0],\n",
       " [1.0, 2.0, 6.0, 0.0, 1, 0],\n",
       " [1.0, 8.0, 90.0, 0.0, 0, 0],\n",
       " [1.0, 9.0, 110.0, 0.0, 0, 0],\n",
       " [1.0, 14.0, 120.0, 0.0, 0, 0],\n",
       " [1.0, 7.0, 50.0, 0.0, 0, 0],\n",
       " [1.0, 3.0, 20.0, 1.0, 1, 0],\n",
       " [1.0, 4.0, 35.0, 0.0, 1, 0],\n",
       " [1.0, 7.0, 60.0, 0.0, 0, 0],\n",
       " [1.0, 11.0, 68.0, 0.0, 1, 0],\n",
       " [1.0, 6.0, 30.0, 0.0, 1, 0],\n",
       " [1.0, 4.0, 54.0, 0.0, 0, 0],\n",
       " [1.0, 15.0, 65.0, 0.0, 1, 0],\n",
       " [1.0, 17.0, 80.0, 0.0, 0, 0],\n",
       " [1.0, 15.0, 120.0, 0.0, 0, 0],\n",
       " [1.0, 3.0, 30.0, 0.0, 1, 0],\n",
       " [1.0, 10.0, 55.113, 0.0, 1, 0],\n",
       " [1.0, 4.0, 50.0, 0.0, 0, 0],\n",
       " [1.0, 1.0, 6.0, 0.0, 1, 0],\n",
       " [1.0, 10.0, 50.0, 0.0, 1, 0],\n",
       " [1.0, 9.0, 90.0, 0.0, 0, 0],\n",
       " [1.0, 13.0, 126.0, 0.0, 0, 0],\n",
       " [1.0, 8.0, 90.0, 0.0, 0, 0],\n",
       " [1.0, 4.0, 80.0, 0.0, 1, 0],\n",
       " [1.0, 10.0, 70.0, 0.0, 0, 0],\n",
       " [1.0, 18.0, 80.0, 0.0, 1, 0],\n",
       " [1.0, 10.0, 80.0, 0.0, 1, 0],\n",
       " [1.0, 8.0, 80.0, 0.0, 1, 0],\n",
       " [1.0, 16.0, 150.0, 0.0, 1, 0],\n",
       " [1.0, 15.0, 110.0, 0.0, 0, 0],\n",
       " [1.0, 5.0, 110.0, 0.0, 0, 0],\n",
       " [1.0, 11.0, 80.0, 0.0, 0, 0],\n",
       " [1.0, 2.0, 20.0, 0.0, 1, 0],\n",
       " [1.0, 10.0, 120.0, 0.0, 0, 0],\n",
       " [1.0, 5.0, 120.0, 0.0, 0, 0],\n",
       " [1.0, 11.0, 80.0, 0.0, 0, 0],\n",
       " [1.0, 6.0, 91.5, 0.0, 0, 0],\n",
       " [1.0, 9.0, 120.0, 0.0, 0, 0],\n",
       " [1.0, 9.0, 100.0, 0.0, 0, 0],\n",
       " [1.0, 9.0, 120.0, 0.0, 0, 0],\n",
       " [1.0, 4.0, 80.0, 0.0, 1, 0],\n",
       " [1.0, 6.0, 90.0, 0.0, 0, 0],\n",
       " [1.0, 5.0, 70.0, 0.0, 1, 0],\n",
       " [1.0, 22.0, 110.0, 0.0, 1, 0],\n",
       " [1.0, 10.0, 150.0, 0.0, 0, 0],\n",
       " [1.0, 11.0, 60.0, 1.0, 1, 0],\n",
       " [1.0, 9.0, 40.0, 0.0, 0, 0],\n",
       " [1.0, 8.0, 110.0, 1.0, 0, 0],\n",
       " [1.0, 4.0, 20.0, 0.0, 1, 0],\n",
       " [1.0, 2.0, 10.0, 0.0, 1, 0],\n",
       " [1.0, 7.0, 90.0, 0.0, 0, 0],\n",
       " [1.0, 13.0, 70.0, 0.0, 1, 0],\n",
       " [1.0, 12.0, 120.0, 0.0, 0, 0],\n",
       " [1.0, 15.0, 120.0, 0.0, 0, 0],\n",
       " [1.0, 12.0, 90.0, 0.0, 1, 0],\n",
       " [1.0, 4.0, 80.0, 0.0, 1, 0],\n",
       " [1.0, 18.0, 132.478, 0.0, 0, 0],\n",
       " [1.0, 7.0, 45.0, 0.0, 1, 0],\n",
       " [1.0, 8.0, 120.0, 0.0, 0, 0],\n",
       " [1.0, 2.0, 10.0, 0.0, 1, 0],\n",
       " [1.0, 9.0, 51.0, 0.0, 1, 0],\n",
       " [1.0, 12.0, 105.0, 1.0, 1, 0],\n",
       " [1.0, 7.0, 100.0, 0.0, 0, 0],\n",
       " [1.0, 11.0, 30.0, 0.0, 1, 0],\n",
       " [1.0, 5.0, 60.0, 0.0, 0, 0],\n",
       " [1.0, 8.0, 86.0, 0.0, 0, 0],\n",
       " [1.0, 6.0, 15.0, 0.0, 1, 0],\n",
       " [1.0, 10.0, 137.5, 0.0, 0, 0],\n",
       " [1.0, 3.0, 60.0, 0.0, 1, 0],\n",
       " [1.0, 5.0, 70.0, 0.0, 0, 0],\n",
       " [1.0, 6.0, 5.0, 0.0, 1, 0],\n",
       " [1.0, 4.0, 30.0, 0.0, 1, 0],\n",
       " [1.0, 6.0, 40.0, 0.0, 1, 0],\n",
       " [1.0, 6.0, 60.0, 0.0, 0, 0],\n",
       " [1.0, 13.0, 70.0, 0.0, 1, 0],\n",
       " [1.0, 2.0, 15.0, 0.0, 1, 0],\n",
       " [1.0, 10.0, 110.0, 0.0, 0, 0],\n",
       " [1.0, 21.0, 70.0, 0.0, 1, 0],\n",
       " [1.0, 2.0, 10.0, 0.0, 0, 0],\n",
       " [1.0, 8.0, 60.0, 0.0, 1, 0],\n",
       " [1.0, 10.0, 110.0, 0.0, 0, 0],\n",
       " [1.0, 8.0, 60.0, 0.0, 1, 0],\n",
       " [1.0, 6.0, 35.0, 0.0, 1, 0],\n",
       " [1.0, 5.0, 70.0, 0.0, 1, 0],\n",
       " [1.0, 10.0, 110.0, 0.0, 0, 0],\n",
       " [1.0, 10.0, 100.0, 0.0, 0, 0],\n",
       " [1.0, 13.0, 120.0, 0.0, 1, 0],\n",
       " [1.0, 12.0, 90.0, 0.0, 1, 0],\n",
       " [1.0, 5.0, 70.0, 0.0, 0, 0],\n",
       " [1.0, 7.0, 88.0, 0.0, 0, 0],\n",
       " [1.0, 9.0, 38.0, 0.0, 1, 0],\n",
       " [1.0, 8.0, 90.0, 0.0, 1, 0],\n",
       " [1.0, 5.0, 60.0, 0.0, 1, 0],\n",
       " [1.0, 11.0, 60.0, 0.0, 1, 0],\n",
       " [1.0, 9.0, 156.06, 0.0, 0, 0],\n",
       " [1.0, 4.0, 60.0, 0.0, 0, 0],\n",
       " [1.0, 4.0, 70.0, 0.0, 1, 0],\n",
       " [1.0, 4.0, 35.0, 0.0, 0, 0],\n",
       " [1.0, 5.0, 50.0, 0.0, 0, 0],\n",
       " [1.0, 9.0, 50.0, 0.0, 1, 0],\n",
       " [1.0, 14.0, 100.0, 0.0, 1, 0],\n",
       " [1.0, 6.0, 15.0, 0.0, 1, 0],\n",
       " [1.0, 6.0, 20.0, 0.0, 1, 0],\n",
       " [1.0, 6.0, 80.0, 0.0, 0, 0],\n",
       " [1.0, 7.0, 110.0, 0.0, 0, 0],\n",
       " [1.0, 7.0, 35.0, 0.0, 1, 0],\n",
       " [1.0, 7.0, 35.0, 0.0, 1, 0],\n",
       " [1.0, 4.0, 140.0, 0.0, 0, 0],\n",
       " [1.0, 11.0, 40.0, 0.0, 1, 0],\n",
       " [1.0, 13.0, 110.0, 0.0, 0, 0],\n",
       " [1.0, 9.0, 70.0, 0.0, 1, 0],\n",
       " [1.0, 12.0, 100.0, 0.0, 0, 0],\n",
       " [1.0, 6.0, 20.0, 0.0, 1, 0],\n",
       " [1.0, 2.0, 15.0, 0.0, 1, 0],\n",
       " [1.0, 10.0, 70.0, 0.0, 1, 0],\n",
       " [1.0, 5.0, 20.0, 0.0, 1, 0],\n",
       " [1.0, 5.0, 15.0, 0.0, 1, 0],\n",
       " [1.0, 4.0, 107.0, 0.0, 0, 0],\n",
       " [1.0, 10.0, 54.0, 0.0, 0, 0],\n",
       " [1.0, 12.0, 58.0, 0.0, 1, 0],\n",
       " [1.0, 10.0, 110.0, 0.0, 0, 0],\n",
       " [1.0, 14.0, 90.0, 0.0, 0, 0],\n",
       " [1.0, 6.0, 43.0, 0.0, 1, 0],\n",
       " [1.0, 4.0, 43.0, 0.0, 0, 0],\n",
       " [1.0, 8.0, 60.0, 0.0, 0, 0],\n",
       " [1.0, 10.0, 150.0, 0.0, 1, 0],\n",
       " [1.0, 4.0, 35.0, 0.0, 1, 0],\n",
       " [1.0, 8.0, 46.0, 0.0, 1, 0],\n",
       " [1.0, 3.0, 10.0, 0.0, 1, 0],\n",
       " [1.0, 5.0, 35.0, 0.0, 1, 0],\n",
       " [1.0, 5.0, 50.0, 0.0, 1, 0],\n",
       " [1.0, 16.0, 60.0, 0.0, 1, 0],\n",
       " [1.0, 10.0, 80.0, 0.0, 0, 0],\n",
       " [1.0, 4.0, 110.0, 0.0, 0, 0],\n",
       " [1.0, 6.0, 14.0, 0.0, 0, 0],\n",
       " [1.0, 9.0, 60.0, 0.0, 0, 1],\n",
       " [1.0, 4.0, 28.0, 0.0, 1, 0],\n",
       " [1.0, 10.0, 57.0, 0.0, 1, 0],\n",
       " [1.0, 4.0, 50.0, 0.0, 0, 0],\n",
       " [1.0, 9.0, 70.0, 0.0, 0, 1],\n",
       " [1.0, 6.0, 60.0, 0.0, 0, 0],\n",
       " [1.0, 8.0, 70.0, 0.0, 1, 0],\n",
       " [1.0, 5.0, 40.0, 0.0, 1, 0],\n",
       " [1.0, 11.0, 120.0, 0.0, 0, 0],\n",
       " [1.0, 5.0, 140.0, 0.0, 0, 0],\n",
       " [1.0, 11.0, 100.0, 0.0, 0, 0],\n",
       " [1.0, 7.0, 120.0, 0.0, 0, 0],\n",
       " [1.0, 8.0, 120.0, 0.0, 0, 0],\n",
       " [1.0, 9.0, 64.0, 0.0, 0, 0],\n",
       " [1.0, 6.0, 25.0, 0.0, 1, 0],\n",
       " [1.0, 2.0, 12.0, 0.0, 1, 0],\n",
       " [1.0, 9.0, 70.0, 0.0, 0, 0],\n",
       " [1.0, 5.0, 120.0, 0.0, 0, 0],\n",
       " [1.0, 5.0, 90.0, 0.0, 1, 0],\n",
       " [1.0, 6.0, 40.0, 0.0, 1, 0],\n",
       " [1.0, 11.0, 300.0, 0.0, 0, 0],\n",
       " [1.0, 9.0, 120.0, 0.0, 0, 0],\n",
       " [1.0, 18.0, 90.0, 0.0, 1, 0],\n",
       " [1.0, 12.0, 100.0, 0.0, 0, 0],\n",
       " [1.0, 5.0, 90.0, 0.0, 0, 0],\n",
       " [1.0, 4.0, 50.0, 0.0, 0, 0],\n",
       " [1.0, 6.0, 168.0, 0.0, 0, 0],\n",
       " [1.0, 11.0, 110.0, 0.0, 0, 0],\n",
       " [1.0, 11.0, 120.0, 0.0, 0, 0],\n",
       " [1.0, 9.0, 120.0, 0.0, 0, 0],\n",
       " [1.0, 4.0, 40.0, 0.0, 0, 0],\n",
       " [1.0, 15.0, 110.0, 0.0, 1, 0],\n",
       " [1.0, 11.0, 100.0, 0.0, 0, 0],\n",
       " [1.0, 4.0, 40.0, 0.0, 0, 0],\n",
       " [1.0, 2.0, 30.0, 0.0, 1, 0],\n",
       " [1.0, 19.0, 80.0, 0.0, 1, 0],\n",
       " [1.0, 10.0, 90.0, 0.0, 0, 0],\n",
       " [1.0, 12.0, 200.0, 0.0, 0, 0],\n",
       " [1.0, 11.0, 125.0, 0.0, 0, 0],\n",
       " [1.0, 10.0, 80.0, 0.0, 1, 0],\n",
       " [1.0, 7.0, 44.0, 1.0, 0, 0],\n",
       " [1.0, 8.0, 90.0, 0.0, 0, 0],\n",
       " [1.0, 3.0, 32.0, 0.0, 1, 0],\n",
       " [1.0, 8.0, 70.0, 0.0, 1, 0],\n",
       " [1.0, 6.0, 43.0, 0.0, 1, 0],\n",
       " [1.0, 4.0, 80.0, 0.0, 0, 0],\n",
       " [1.0, 9.0, 60.0, 0.0, 0, 0],\n",
       " [1.0, 7.0, 18.945, 0.0, 1, 0],\n",
       " [1.0, 3.0, 70.0, 0.0, 0, 0],\n",
       " [1.0, 8.0, 100.0, 0.0, 1, 0],\n",
       " [1.0, 4.0, 60.0, 0.0, 1, 0],\n",
       " [1.0, 12.0, 144.0, 0.0, 0, 0],\n",
       " [1.0, 5.0, 120.0, 0.0, 0, 0],\n",
       " [1.0, 9.0, 107.825, 0.0, 0, 0],\n",
       " [1.0, 1.0, 15.0, 0.0, 1, 0],\n",
       " [1.0, 3.0, 10.0, 0.0, 1, 0],\n",
       " [1.0, 2.0, 1.62, 0.0, 1, 0],\n",
       " [1.0, 3.0, 30.0, 0.0, 0, 0],\n",
       " [1.0, 3.0, 70.0, 0.0, 0, 0],\n",
       " [1.0, 5.0, 70.0, 0.0, 0, 0],\n",
       " [1.0, 8.0, 95.0, 0.0, 0, 0],\n",
       " [1.0, 4.0, 50.0, 0.0, 0, 0],\n",
       " [1.0, 6.0, 160.0, 0.0, 0, 0],\n",
       " [1.0, 2.0, 10.0, 0.0, 1, 0],\n",
       " [1.0, 9.0, 100.0, 0.0, 0, 0],\n",
       " [1.0, 5.0, 50.0, 0.0, 0, 0],\n",
       " [1.0, 8.0, 60.0, 0.0, 1, 0],\n",
       " [1.0, 9.0, 110.0, 0.0, 0, 0],\n",
       " [1.0, 5.0, 80.0, 0.0, 0, 0],\n",
       " [1.0, 10.0, 85.0, 0.0, 0, 0],\n",
       " [1.0, 11.0, 90.0, 0.0, 1, 0],\n",
       " [1.0, 10.0, 90.0, 0.0, 0, 0],\n",
       " [1.0, 14.0, 90.0, 0.0, 1, 0],\n",
       " [1.0, 9.0, 120.0, 0.0, 0, 0],\n",
       " [1.0, 12.0, 120.0, 0.0, 0, 0],\n",
       " [1.0, 14.0, 160.0, 0.0, 0, 0],\n",
       " [1.0, 15.0, 141.0, 0.0, 1, 0],\n",
       " [1.0, 13.0, 100.0, 0.0, 0, 0],\n",
       " [1.0, 2.0, 15.0, 0.0, 0, 0],\n",
       " [1.0, 9.0, 108.0, 0.0, 0, 0],\n",
       " [1.0, 9.0, 108.0, 0.0, 0, 0],\n",
       " [1.0, 6.0, 55.0, 0.0, 0, 0],\n",
       " [1.0, 11.0, 37.944, 0.0, 0, 0],\n",
       " [1.0, 10.0, 90.4, 0.0, 0, 0],\n",
       " [1.0, 13.0, 85.0, 0.0, 0, 0],\n",
       " [1.0, 18.0, 120.0, 0.0, 0, 0],\n",
       " [1.0, 2.0, 5.0, 0.0, 1, 0],\n",
       " [1.0, 5.0, 50.0, 0.0, 0, 0],\n",
       " [1.0, 2.0, 5.0, 0.0, 1, 0],\n",
       " [1.0, 5.0, 90.0, 0.0, 0, 0],\n",
       " [1.0, 9.0, 96.0, 0.0, 0, 0],\n",
       " [1.0, 10.0, 80.0, 0.0, 1, 0],\n",
       " [1.0, 14.0, 60.0, 0.0, 1, 0],\n",
       " [1.0, 6.0, 90.0, 0.0, 0, 0],\n",
       " [1.0, 13.0, 193.623, 0.0, 0, 0],\n",
       " [1.0, 4.0, 63.186, 0.0, 0, 0],\n",
       " [1.0, 13.0, 219.0, 0.0, 0, 0],\n",
       " [1.0, 8.0, 110.0, 0.0, 0, 0],\n",
       " [1.0, 9.0, 151.0, 0.0, 0, 0],\n",
       " [1.0, 2.0, 5.0, 1.0, 1, 0],\n",
       " [1.0, 11.0, 91.5, 0.0, 1, 0],\n",
       " [1.0, 6.0, 23.0, 0.0, 0, 0],\n",
       " [1.0, 9.0, 40.0, 0.0, 0, 0],\n",
       " [1.0, 9.0, 70.0, 0.0, 0, 0],\n",
       " [1.0, 3.0, 10.0, 1.0, 0, 0],\n",
       " [1.0, 7.0, 90.0, 0.0, 0, 0],\n",
       " [1.0, 5.0, 68.0, 0.0, 1, 0],\n",
       " [1.0, 8.0, 120.0, 0.0, 0, 0],\n",
       " [1.0, 8.0, 65.0, 0.0, 0, 0],\n",
       " [1.0, 16.0, 85.0, 0.0, 1, 0],\n",
       " [1.0, 10.0, 94.0, 0.0, 1, 0],\n",
       " [1.0, 6.0, 100.0, 0.0, 0, 0],\n",
       " [1.0, 6.0, 80.0, 0.0, 0, 0],\n",
       " [1.0, 8.0, 80.0, 0.0, 0, 0],\n",
       " [1.0, 10.0, 140.5, 0.0, 0, 0],\n",
       " [1.0, 11.0, 143.0, 0.0, 1, 0],\n",
       " [1.0, 8.0, 60.0, 0.0, 1, 0],\n",
       " [1.0, 10.0, 120.0, 0.0, 0, 0],\n",
       " [1.0, 7.0, 80.0, 1.0, 0, 0],\n",
       " [1.0, 7.0, 63.0, 0.0, 0, 0],\n",
       " [1.0, 12.0, 120.0, 0.0, 1, 0],\n",
       " [1.0, 3.0, 100.0, 0.0, 0, 0],\n",
       " [1.0, 3.0, 60.0, 0.0, 1, 0],\n",
       " [1.0, 8.0, 90.0, 0.0, 0, 0],\n",
       " [1.0, 7.0, 50.0, 0.0, 0, 0],\n",
       " [1.0, 6.0, 70.0, 0.0, 0, 0],\n",
       " [1.0, 11.0, 40.0, 0.0, 0, 0],\n",
       " [1.0, 15.0, 120.0, 0.0, 0, 0],\n",
       " [1.0, 8.0, 195.0, 0.0, 0, 0],\n",
       " [1.0, 8.0, 40.0, 0.0, 1, 0],\n",
       " [1.0, 13.0, 40.0, 0.0, 0, 0],\n",
       " [1.0, 9.0, 120.0, 0.0, 0, 0],\n",
       " [1.0, 9.0, 360.003, 0.0, 1, 0],\n",
       " [1.0, 22.0, 60.0, 0.0, 1, 0],\n",
       " ...]"
      ]
     },
     "execution_count": 45,
     "metadata": {},
     "output_type": "execute_result"
    }
   ],
   "source": [
    "#change fuel to dummy set\n",
    "fuel_col = get_column(explanatory_m1, 4)\n",
    "fuel_col = [int(i) for i in fuel_col]\n",
    "\n",
    "model_1.make_dummy(fuel_col, 'fuel', 'fuel')\n",
    "model_1.drop_var(['d_fuel_cat_1'])\n"
   ]
  },
  {
   "cell_type": "code",
   "execution_count": 46,
   "metadata": {},
   "outputs": [
    {
     "data": {
      "text/plain": [
       "[14415.281403055984,\n",
       " -645.5474335770298,\n",
       " -15.58785776615287,\n",
       " 16764.09228699972,\n",
       " -4991.657410146188,\n",
       " -4270.418296579659]"
      ]
     },
     "execution_count": 46,
     "metadata": {},
     "output_type": "execute_result"
    }
   ],
   "source": [
    "model_1.fit()"
   ]
  },
  {
   "cell_type": "code",
   "execution_count": 47,
   "metadata": {},
   "outputs": [
    {
     "name": "stdout",
     "output_type": "stream",
     "text": [
      "\n",
      "\n",
      " 24/11/2021 21:02:06\n",
      "|--------------------|-------------------|\n",
      "|REGRESSION STATS    |                   |\n",
      "|========================================|\n",
      "|R Square            |0.47132345988974145|\n",
      "|--------------------|-------------------|\n",
      "|Adj R Square        |0.4712584000152509 |\n",
      "|--------------------|-------------------|\n",
      "|Multiple R          |0.6865300138302342 |\n",
      "|--------------------|-------------------|\n",
      "|Std Error Regression|7869.316788060393  |\n",
      "|--------------------|-------------------|\n",
      "- - - - - - - - - - - - - - - - - - - - - - - - - - - - - - - - - - - - - - - \n",
      "|----------|-----|------------------|------------------|\n",
      "|ANOVA     |DF   |SS                |MS                |\n",
      "|======================================================|\n",
      "|Regression|5    |448621303898.0523 |74770217316.34206 |\n",
      "|----------|-----|------------------|------------------|\n",
      "|Residual  |8122 |503211868172.36017|61956644.690022185|\n",
      "|----------|-----|------------------|------------------|\n",
      "|Total     |8127 |951833172070.4164 |117119868.59485866|\n",
      "|----------|-----|------------------|------------------|\n",
      "- - - - - - - - - - - - - - - - - - - - - - - - - - - - - - - - - - - - - - - \n",
      "  COEFFICIENT ANALYSIS\n",
      "|----------|----------|----------|----------|----------|----------|----------|\n",
      "|selling_pr|Coefficien|SE        |T-Stat    |P-Value   |Lower 95.0|Upper 95.0|\n",
      "|ice       |ts        |          |          |          |%         |%         |\n",
      "|============================================================================|\n",
      "|_const    |14415.2814|339.175729|42.5009225|0.0       |13750.4100|15080.1527|\n",
      "|          |03055984  |48776746  |3011835   |          |95772277  |10339691  |\n",
      "|----------|----------|----------|----------|----------|----------|----------|\n",
      "|age       |-645.54743|36.7548618|-17.563592|0.0       |-717.59637|-573.49848|\n",
      "|          |35770298  |47855246  |98122894  |          |72992749  |98547847  |\n",
      "|----------|----------|----------|----------|----------|----------|----------|\n",
      "|km_driven |-15.587857|5.95509152|-2.6175681|0.00887230|-27.261362|-3.9143530|\n",
      "|          |76615287  |37166375  |27051105  |4901315298|507624654 |246810876 |\n",
      "|----------|----------|----------|----------|----------|----------|----------|\n",
      "|transmissi|16764.0922|622.726848|26.9204585|0.0       |15543.3881|17984.7964|\n",
      "|on        |8699972   |229663    |19908053  |          |57348689  |1665075   |\n",
      "|----------|----------|----------|----------|----------|----------|----------|\n",
      "|d_fuel_cat|-4991.6574|266.333541|-18.742128|0.0       |-5513.7393|-4469.5754|\n",
      "|_2        |10146188  |0813452   |34733274  |          |70136899  |501554775 |\n",
      "|----------|----------|----------|----------|----------|----------|----------|\n",
      "|d_fuel_cat|-4270.4182|274.324958|-15.567006|0.0       |-4808.1654|-3732.6711|\n",
      "|_3        |96579659  |48055834  |080062189 |          |81618426  |11540891  |\n",
      "|----------|----------|----------|----------|----------|----------|----------|\n",
      "Critical Value: 1.960256142996476\n",
      "\n",
      "NOTES: -- \n",
      "------------------------------ END OF ANALYSIS ------------------------------\n"
     ]
    },
    {
     "data": {
      "text/plain": [
       "({'regression': {'df': 5,\n",
       "   'sum_squares': 448621303898.0523,\n",
       "   'mean_squares': 89724260779.61046,\n",
       "   'tup': (5, 448621303898.0523, 74770217316.34206)},\n",
       "  'residual': {'df': 8122,\n",
       "   'sum_squares': 503211868172.36017,\n",
       "   'mean_squares': 61964273.87912328,\n",
       "   'tup': (8122, 503211868172.36017, 61956644.690022185)},\n",
       "  'total': {'df': 8127,\n",
       "   'sum_squares': 951833172070.4164,\n",
       "   'mean_squares': 117119868.59485866,\n",
       "   'tup': (8127, 951833172070.4164, 117119868.59485866)},\n",
       "  'regression_f': {'regression_f': 1447.9998741636177}},\n",
       " {'r_square': 0.47132345988974145,\n",
       "  'adj_r_square': 0.4712584000152509,\n",
       "  'multiple_r': 0.6865300138302342,\n",
       "  'std_error_regression': 7869.316788060393},\n",
       " {'values': [['selling_price',\n",
       "    'Coefficients',\n",
       "    'SE',\n",
       "    'T-Stat',\n",
       "    'P-Value',\n",
       "    'Lower 95.0%',\n",
       "    'Upper 95.0%'],\n",
       "   ['_const',\n",
       "    14415.281403055984,\n",
       "    339.17572948776746,\n",
       "    42.50092253011835,\n",
       "    0.0,\n",
       "    13750.410095772277,\n",
       "    15080.152710339691],\n",
       "   ['age',\n",
       "    -645.5474335770298,\n",
       "    36.754861847855246,\n",
       "    -17.56359298122894,\n",
       "    0.0,\n",
       "    -717.5963772992749,\n",
       "    -573.4984898547847],\n",
       "   ['km_driven',\n",
       "    -15.58785776615287,\n",
       "    5.9550915237166375,\n",
       "    -2.617568127051105,\n",
       "    0.008872304901315298,\n",
       "    -27.261362507624654,\n",
       "    -3.9143530246810876],\n",
       "   ['transmission',\n",
       "    16764.09228699972,\n",
       "    622.726848229663,\n",
       "    26.920458519908053,\n",
       "    0.0,\n",
       "    15543.388157348689,\n",
       "    17984.79641665075],\n",
       "   ['d_fuel_cat_2',\n",
       "    -4991.657410146188,\n",
       "    266.3335410813452,\n",
       "    -18.74212834733274,\n",
       "    0.0,\n",
       "    -5513.739370136899,\n",
       "    -4469.5754501554775],\n",
       "   ['d_fuel_cat_3',\n",
       "    -4270.418296579659,\n",
       "    274.32495848055834,\n",
       "    -15.567006080062189,\n",
       "    0.0,\n",
       "    -4808.165481618426,\n",
       "    -3732.671111540891]],\n",
       "  'cv': 1.960256142996476},\n",
       " {'note': ''})"
      ]
     },
     "execution_count": 47,
     "metadata": {},
     "output_type": "execute_result"
    }
   ],
   "source": [
    "model_1.analyse()"
   ]
  },
  {
   "cell_type": "code",
   "execution_count": 48,
   "metadata": {},
   "outputs": [
    {
     "name": "stdout",
     "output_type": "stream",
     "text": [
      "['x', 'y', 's']\n",
      "['x', 'y', 'd_test_cat_1', 'd_test_cat_2', 'd_test_cat_3']\n",
      "['x', 'y', 'd_test_cat_2', 'd_test_cat_3']\n",
      "[[1.0, 10, 0, 0], [1.0, 10, 1, 0], [1.0, 10, 0, 1], [1.0, 10, 0, 0], [1.0, 10, 1, 0], [1.0, 10, 1, 0], [1.0, 10, 1, 0], [1.0, 10, 1, 0], [1.0, 10, 0, 1], [1.0, 10, 0, 1], [1.0, 10, 0, 1], [1.0, 10, 0, 1], [1.0, 10, 0, 1], [1.0, 10, 0, 1], [1.0, 10, 0, 1], [1.0, 10, 0, 1], [1.0, 10, 0, 1]]\n"
     ]
    }
   ],
   "source": [
    "s = [0,1,2,0,1,1,1,1,2,2,2,2,2,2,2,2,2] #---> index = cat of new arr\n",
    "x = [10]*17\n",
    "y = [5]*17\n",
    "r = LinReg(x,y, columns=['x', 'y'])\n",
    "r.add_variable(s, 's')\n",
    "print(r.columns)\n",
    "r.make_dummy(s, 'test', 's')\n",
    "print(r.columns)\n",
    "r.drop_var(['d_test_cat_1'])\n",
    "print(r.columns)\n",
    "print(r.x)\n",
    "\n",
    "\n",
    "\n",
    "\n",
    "\n"
   ]
  },
  {
   "cell_type": "code",
   "execution_count": null,
   "metadata": {},
   "outputs": [],
   "source": [
    "\n"
   ]
  },
  {
   "cell_type": "code",
   "execution_count": null,
   "metadata": {},
   "outputs": [],
   "source": []
  }
 ],
 "metadata": {
  "kernelspec": {
   "display_name": "Python 3",
   "language": "python",
   "name": "python3"
  },
  "language_info": {
   "codemirror_mode": {
    "name": "ipython",
    "version": 3
   },
   "file_extension": ".py",
   "mimetype": "text/x-python",
   "name": "python",
   "nbconvert_exporter": "python",
   "pygments_lexer": "ipython3",
   "version": "3.8.3"
  }
 },
 "nbformat": 4,
 "nbformat_minor": 4
}
